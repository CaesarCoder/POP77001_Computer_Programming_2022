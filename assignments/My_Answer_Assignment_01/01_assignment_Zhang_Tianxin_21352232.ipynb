{
 "cells": [
  {
   "cell_type": "code",
   "execution_count": 1,
   "id": "0f90c9f4",
   "metadata": {
    "slideshow": {
     "slide_type": "skip"
    }
   },
   "outputs": [],
   "source": [
    "options(jupyter.rich_display = FALSE)"
   ]
  },
  {
   "cell_type": "markdown",
   "id": "31d2cf7f",
   "metadata": {
    "slideshow": {
     "slide_type": "slide"
    }
   },
   "source": [
    "# Assignment 1: R Basics and Control Flow\n",
    "\n",
    "## POP77001 Computer Programming for Social Scientists"
   ]
  },
  {
   "cell_type": "markdown",
   "id": "8c6e5f0b",
   "metadata": {
    "slideshow": {
     "slide_type": "slide"
    }
   },
   "source": [
    "## Before submission\n",
    "\n",
    "- Make sure that you can run all cells without errors\n",
    "- You can do it by clicking `Kernel`, `Restart & Run All` in the menu above\n",
    "- Make sure that you save the output by pressing Command+S / CTRL+S\n",
    "- Rename the file from `01_assignment.ipynb` to `01_assignment_lastname_firstname_studentnumber.ipynb`\n",
    "- Use Firefox browser for submitting your Jupyter notebook on Blackboard"
   ]
  },
  {
   "cell_type": "markdown",
   "id": "415b8791",
   "metadata": {
    "slideshow": {
     "slide_type": "slide"
    }
   },
   "source": [
    "## Exercise 1: Subsetting (20 points)\n",
    "\n",
    "Write 3 separate subsetting operations to extract the following elements from the list below:\n",
    "- All consonants from the first character vector\n",
    "- Second columns in all dimensions from the array A\n",
    "- Odd rows from the matrix M"
   ]
  },
  {
   "cell_type": "code",
   "execution_count": 2,
   "id": "ebd7be68",
   "metadata": {
    "slideshow": {
     "slide_type": "fragment"
    }
   },
   "outputs": [],
   "source": [
    "l <- list(\n",
    "    mapply(assign, letters, 1:26),\n",
    "    A = array(1:60, c(5,2,3)),\n",
    "    M = matrix(1:50, c(10,5))\n",
    ")"
   ]
  },
  {
   "cell_type": "code",
   "execution_count": 3,
   "id": "d6f6e3f2",
   "metadata": {
    "slideshow": {
     "slide_type": "fragment"
    }
   },
   "outputs": [
    {
     "data": {
      "text/plain": [
       "[[1]]\n",
       " a  b  c  d  e  f  g  h  i  j  k  l  m  n  o  p  q  r  s  t  u  v  w  x  y  z \n",
       " 1  2  3  4  5  6  7  8  9 10 11 12 13 14 15 16 17 18 19 20 21 22 23 24 25 26 \n",
       "\n",
       "$A\n",
       ", , 1\n",
       "\n",
       "     [,1] [,2]\n",
       "[1,]    1    6\n",
       "[2,]    2    7\n",
       "[3,]    3    8\n",
       "[4,]    4    9\n",
       "[5,]    5   10\n",
       "\n",
       ", , 2\n",
       "\n",
       "     [,1] [,2]\n",
       "[1,]   11   16\n",
       "[2,]   12   17\n",
       "[3,]   13   18\n",
       "[4,]   14   19\n",
       "[5,]   15   20\n",
       "\n",
       ", , 3\n",
       "\n",
       "     [,1] [,2]\n",
       "[1,]   21   26\n",
       "[2,]   22   27\n",
       "[3,]   23   28\n",
       "[4,]   24   29\n",
       "[5,]   25   30\n",
       "\n",
       "\n",
       "$M\n",
       "      [,1] [,2] [,3] [,4] [,5]\n",
       " [1,]    1   11   21   31   41\n",
       " [2,]    2   12   22   32   42\n",
       " [3,]    3   13   23   33   43\n",
       " [4,]    4   14   24   34   44\n",
       " [5,]    5   15   25   35   45\n",
       " [6,]    6   16   26   36   46\n",
       " [7,]    7   17   27   37   47\n",
       " [8,]    8   18   28   38   48\n",
       " [9,]    9   19   29   39   49\n",
       "[10,]   10   20   30   40   50\n"
      ]
     },
     "metadata": {},
     "output_type": "display_data"
    }
   ],
   "source": [
    "l"
   ]
  },
  {
   "cell_type": "code",
   "execution_count": 4,
   "id": "2e749c9d",
   "metadata": {
    "slideshow": {
     "slide_type": "fragment"
    }
   },
   "outputs": [],
   "source": [
    "# Exercise 1:\n",
    "\n",
    "# Your code goes here\n"
   ]
  },
  {
   "cell_type": "markdown",
   "id": "ac41e8c6",
   "metadata": {},
   "source": [
    "1. All consonants from the first character vector"
   ]
  },
  {
   "cell_type": "code",
   "execution_count": 5,
   "id": "8658ada3",
   "metadata": {},
   "outputs": [
    {
     "name": "stdout",
     "output_type": "stream",
     "text": [
      " Named int [1:26] 1 2 3 4 5 6 7 8 9 10 ...\n",
      " - attr(*, \"names\")= chr [1:26] \"a\" \"b\" \"c\" \"d\" ...\n"
     ]
    },
    {
     "data": {
      "text/plain": [
       " b  c  d  f  g  h  j  k  l  m  n  p  q  r  s  t  v  w  x  y  z \n",
       " 2  3  4  6  7  8 10 11 12 13 14 16 17 18 19 20 22 23 24 25 26 "
      ]
     },
     "metadata": {},
     "output_type": "display_data"
    },
    {
     "name": "stdout",
     "output_type": "stream",
     "text": [
      " Named int [1:21] 2 3 4 6 7 8 10 11 12 13 ...\n",
      " - attr(*, \"names\")= chr [1:21] \"b\" \"c\" \"d\" \"f\" ...\n"
     ]
    }
   ],
   "source": [
    "LETTERS <- l[[1]]\n",
    "str(LETTERS)\n",
    "CONSONANTS <- LETTERS[c(\"b\", \"c\", \"d\", \"f\", \"g\", \"h\", \"j\", \"k\",\n",
    "                        \"l\", \"m\", \"n\", \"p\", \"q\", \"r\", \"s\", \n",
    "                        \"t\", \"v\", \"w\", \"x\", \"y\", \"z\")]\n",
    "CONSONANTS\n",
    "str(CONSONANTS) ## 21 character vectors"
   ]
  },
  {
   "cell_type": "markdown",
   "id": "77d74060",
   "metadata": {},
   "source": [
    "2. Second columns in all dimensions from the array A"
   ]
  },
  {
   "cell_type": "code",
   "execution_count": 6,
   "id": "921f8931",
   "metadata": {},
   "outputs": [
    {
     "data": {
      "text/plain": [
       "     [,1] [,2] [,3]\n",
       "[1,]  6   16   26  \n",
       "[2,]  7   17   27  \n",
       "[3,]  8   18   28  \n",
       "[4,]  9   19   29  \n",
       "[5,] 10   20   30  "
      ]
     },
     "metadata": {},
     "output_type": "display_data"
    }
   ],
   "source": [
    "SDA <- l$A[, 2, ]\n",
    "\n",
    "SDA"
   ]
  },
  {
   "cell_type": "markdown",
   "id": "4464d869",
   "metadata": {},
   "source": [
    "3. Odd rows from the matrix M"
   ]
  },
  {
   "cell_type": "code",
   "execution_count": 7,
   "id": "ebda882d",
   "metadata": {},
   "outputs": [
    {
     "data": {
      "text/plain": [
       "      [,1] [,2] [,3] [,4] [,5]\n",
       " [1,]  1   11   21   31   41  \n",
       " [2,]  2   12   22   32   42  \n",
       " [3,]  3   13   23   33   43  \n",
       " [4,]  4   14   24   34   44  \n",
       " [5,]  5   15   25   35   45  \n",
       " [6,]  6   16   26   36   46  \n",
       " [7,]  7   17   27   37   47  \n",
       " [8,]  8   18   28   38   48  \n",
       " [9,]  9   19   29   39   49  \n",
       "[10,] 10   20   30   40   50  "
      ]
     },
     "metadata": {},
     "output_type": "display_data"
    },
    {
     "data": {
      "text/plain": [
       " [1] 1 0 1 0 1 0 1 0 1 0"
      ]
     },
     "metadata": {},
     "output_type": "display_data"
    },
    {
     "data": {
      "text/plain": [
       "     [,1] [,2] [,3] [,4] [,5]\n",
       "[1,] 1    11   21   31   41  \n",
       "[2,] 3    13   23   33   43  \n",
       "[3,] 5    15   25   35   45  \n",
       "[4,] 7    17   27   37   47  \n",
       "[5,] 9    19   29   39   49  "
      ]
     },
     "metadata": {},
     "output_type": "display_data"
    }
   ],
   "source": [
    "MC1 <- l$M\n",
    "MC1\n",
    "\n",
    "MROWS_ODD <- seq_len(nrow(MC1)) %% 2   \n",
    "\n",
    "MROWS_ODD\n",
    "\n",
    "MC1_ODDROWS <- MC1[MROWS_ODD == 1, ]    \n",
    "MC1_ODDROWS # Odd rows from the Matrix M"
   ]
  },
  {
   "cell_type": "markdown",
   "id": "83f1117f",
   "metadata": {
    "slideshow": {
     "slide_type": "slide"
    }
   },
   "source": [
    "## Exercise 2: Working with vectors  (20 points)\n",
    "\n",
    "Look at the vector below. What is its type? Convert it into numeric. Note that some values get missing due to letter `o` used instead of digit `0`. What proportion of the vector elements did we fail to convert correctly? Now let us fix this issue. Using either subsetting and assignment or `ifelse()` function replace all `NA`s in the converted numeric vector into `0` (zeros)."
   ]
  },
  {
   "cell_type": "code",
   "execution_count": 8,
   "id": "a623da72",
   "metadata": {
    "slideshow": {
     "slide_type": "fragment"
    }
   },
   "outputs": [],
   "source": [
    "set.seed(2022)\n",
    "vec <- sample(c(\"1\", \"0\", \"o\"), size = 100, replace = TRUE)"
   ]
  },
  {
   "cell_type": "code",
   "execution_count": 9,
   "id": "006e6e65",
   "metadata": {
    "slideshow": {
     "slide_type": "fragment"
    }
   },
   "outputs": [],
   "source": [
    "# Exercise 2:\n",
    "\n",
    "# Your code goes here"
   ]
  },
  {
   "cell_type": "code",
   "execution_count": 10,
   "id": "7a77a6d4",
   "metadata": {},
   "outputs": [
    {
     "data": {
      "text/plain": [
       "  [1] \"o\" \"0\" \"o\" \"o\" \"0\" \"o\" \"0\" \"o\" \"1\" \"0\" \"o\" \"1\" \"0\" \"o\" \"0\" \"1\" \"1\" \"o\"\n",
       " [19] \"1\" \"0\" \"0\" \"o\" \"1\" \"o\" \"0\" \"o\" \"o\" \"0\" \"1\" \"o\" \"o\" \"0\" \"o\" \"1\" \"0\" \"0\"\n",
       " [37] \"1\" \"o\" \"o\" \"0\" \"o\" \"1\" \"o\" \"o\" \"1\" \"0\" \"o\" \"1\" \"0\" \"1\" \"1\" \"o\" \"o\" \"0\"\n",
       " [55] \"1\" \"o\" \"0\" \"0\" \"o\" \"o\" \"o\" \"1\" \"0\" \"o\" \"0\" \"1\" \"o\" \"0\" \"0\" \"1\" \"1\" \"0\"\n",
       " [73] \"0\" \"1\" \"0\" \"o\" \"o\" \"0\" \"1\" \"o\" \"1\" \"o\" \"0\" \"o\" \"1\" \"o\" \"1\" \"o\" \"o\" \"o\"\n",
       " [91] \"o\" \"0\" \"0\" \"1\" \"o\" \"0\" \"1\" \"1\" \"0\" \"1\""
      ]
     },
     "metadata": {},
     "output_type": "display_data"
    },
    {
     "data": {
      "text/plain": [
       "[1] \"character\""
      ]
     },
     "metadata": {},
     "output_type": "display_data"
    }
   ],
   "source": [
    "vec\n",
    "typeof(vec)"
   ]
  },
  {
   "cell_type": "markdown",
   "id": "a1771a5c",
   "metadata": {},
   "source": [
    "It is character vector."
   ]
  },
  {
   "cell_type": "code",
   "execution_count": 11,
   "id": "b76e50ec",
   "metadata": {},
   "outputs": [
    {
     "name": "stderr",
     "output_type": "stream",
     "text": [
      "Warning message in eval(expr, envir, enclos):\n",
      "\"NAs introduced by coercion\""
     ]
    }
   ],
   "source": [
    "vec_nu<- as.numeric(vec)"
   ]
  },
  {
   "cell_type": "code",
   "execution_count": 12,
   "id": "a60b7532",
   "metadata": {},
   "outputs": [
    {
     "name": "stdout",
     "output_type": "stream",
     "text": [
      " chr [1:100] \"o\" \"0\" \"o\" \"o\" \"0\" \"o\" \"0\" \"o\" \"1\" \"0\" \"o\" \"1\" \"0\" \"o\" \"0\" ...\n",
      " int [1:40] 1 3 4 6 8 11 14 18 22 24 ...\n"
     ]
    }
   ],
   "source": [
    "str(vec)\n",
    "CO <- which(vec == \"o\")  # \"o\"\n",
    "str(CO) "
   ]
  },
  {
   "cell_type": "markdown",
   "id": "1a24cc80",
   "metadata": {},
   "source": [
    "There are 40 \"o\" in total, accounting for 40%."
   ]
  },
  {
   "cell_type": "code",
   "execution_count": 13,
   "id": "0b435fa8",
   "metadata": {},
   "outputs": [
    {
     "data": {
      "text/plain": [
       "  [1] \"0\" \"0\" \"0\" \"0\" \"0\" \"0\" \"0\" \"0\" \"1\" \"0\" \"0\" \"1\" \"0\" \"0\" \"0\" \"1\" \"1\" \"0\"\n",
       " [19] \"1\" \"0\" \"0\" \"0\" \"1\" \"0\" \"0\" \"0\" \"0\" \"0\" \"1\" \"0\" \"0\" \"0\" \"0\" \"1\" \"0\" \"0\"\n",
       " [37] \"1\" \"0\" \"0\" \"0\" \"0\" \"1\" \"0\" \"0\" \"1\" \"0\" \"0\" \"1\" \"0\" \"1\" \"1\" \"0\" \"0\" \"0\"\n",
       " [55] \"1\" \"0\" \"0\" \"0\" \"0\" \"0\" \"0\" \"1\" \"0\" \"0\" \"0\" \"1\" \"0\" \"0\" \"0\" \"1\" \"1\" \"0\"\n",
       " [73] \"0\" \"1\" \"0\" \"0\" \"0\" \"0\" \"1\" \"0\" \"1\" \"0\" \"0\" \"0\" \"1\" \"0\" \"1\" \"0\" \"0\" \"0\"\n",
       " [91] \"0\" \"0\" \"0\" \"1\" \"0\" \"0\" \"1\" \"1\" \"0\" \"1\""
      ]
     },
     "metadata": {},
     "output_type": "display_data"
    }
   ],
   "source": [
    "vec_NEW <- ifelse(vec == \"o\",0, vec)\n",
    "vec_NEW"
   ]
  },
  {
   "cell_type": "markdown",
   "id": "103ff543",
   "metadata": {
    "slideshow": {
     "slide_type": "slide"
    }
   },
   "source": [
    "## Exercise 3: Vectorized operations  (20 points)\n",
    "\n",
    "Using function `mean()` calculate the percentage of book titles in the vector below that have more than 10 characters in them (including whitespaces).\n",
    "\n",
    "Tip: You can use `nchar()` function to calculate the number of characters in a vector"
   ]
  },
  {
   "cell_type": "code",
   "execution_count": 14,
   "id": "515a1626",
   "metadata": {
    "slideshow": {
     "slide_type": "fragment"
    }
   },
   "outputs": [],
   "source": [
    "books <- c(\n",
    "  \"Dubliners\",\n",
    "  \"Ulysses\",\n",
    "  \"War and Peace\",\n",
    "  \"Normal People\",\n",
    "  \"Crime and Punishment\",\n",
    "  \"The Picture of Dorian Gray\"\n",
    ")"
   ]
  },
  {
   "cell_type": "code",
   "execution_count": 15,
   "id": "327a3aeb",
   "metadata": {
    "slideshow": {
     "slide_type": "fragment"
    }
   },
   "outputs": [],
   "source": [
    "# Exercise 3:\n",
    "\n",
    "# Your code goes here"
   ]
  },
  {
   "cell_type": "code",
   "execution_count": 16,
   "id": "ab546226",
   "metadata": {},
   "outputs": [
    {
     "data": {
      "text/plain": [
       "[1]  9  7 13 13 20 26"
      ]
     },
     "metadata": {},
     "output_type": "display_data"
    }
   ],
   "source": [
    "NCB <- nchar(books)\n",
    "NCB "
   ]
  },
  {
   "cell_type": "code",
   "execution_count": 17,
   "id": "40af4af9",
   "metadata": {},
   "outputs": [
    {
     "data": {
      "text/plain": [
       "[1] 66.66667"
      ]
     },
     "metadata": {},
     "output_type": "display_data"
    }
   ],
   "source": [
    "NCBOT <- mean(NCB > 10)*100\n",
    "NCBOT"
   ]
  },
  {
   "cell_type": "markdown",
   "id": "16f5c795",
   "metadata": {},
   "source": [
    "#There are 60 percent of book titles in the vector below that have more than 10 characters in them"
   ]
  },
  {
   "cell_type": "markdown",
   "id": "182826c2",
   "metadata": {
    "slideshow": {
     "slide_type": "slide"
    }
   },
   "source": [
    "## Exercise 4: Attributes and factors  (20 points)\n",
    "\n",
    "Suppose you read in a variable which represents education of survey respondents. After consulting the codebook for this survey you determined that specific values that the variable takes are coded as follows:\n",
    "\n",
    "- `0` - No formal education\n",
    "- `1` - Primary Education\n",
    "- `2` - Secondary Education\n",
    "- `3` - College Education\n",
    "- `4` - Post-graduate Education\n",
    "\n",
    "Convert the variable `educ` below into a factor variable with each value coded explicitly as one of the education levels. Tabulate the variable using `table()` function. Change the order of the levels of this factor variable such that the most common education level is the first (baseline/reference) category (you can leave other education levels in their origianl order). Tabulate the variable again.   "
   ]
  },
  {
   "cell_type": "code",
   "execution_count": 18,
   "id": "856b7253",
   "metadata": {
    "slideshow": {
     "slide_type": "fragment"
    }
   },
   "outputs": [],
   "source": [
    "set.seed(2022)\n",
    "educ <- rpois(1000, 2)\n",
    "educ <- ifelse(educ > 4, 4, educ)"
   ]
  },
  {
   "cell_type": "code",
   "execution_count": 19,
   "id": "e94963c1",
   "metadata": {
    "slideshow": {
     "slide_type": "fragment"
    }
   },
   "outputs": [],
   "source": [
    "# Exercise 4:\n",
    "\n",
    "# Your code goes here"
   ]
  },
  {
   "cell_type": "code",
   "execution_count": 20,
   "id": "6980f657",
   "metadata": {},
   "outputs": [
    {
     "data": {
      "text/plain": [
       "   [1] 3 2 0 2 1 2 0 0 1 3 0 1 1 2 2 0 3 2 2 3 3 2 2 1 1 4 2 4 2 3 2 2 1 1 1 0 3\n",
       "  [38] 2 3 3 2 2 2 2 4 0 4 2 1 3 1 1 3 1 2 2 1 2 1 1 2 2 3 3 0 3 2 2 1 2 4 4 4 3\n",
       "  [75] 2 0 2 3 2 2 1 1 3 3 0 1 0 1 2 3 1 1 2 2 1 1 0 4 2 3 4 1 3 3 2 1 4 0 2 4 3\n",
       " [112] 1 2 1 4 2 1 2 2 3 0 1 0 0 1 3 2 2 1 3 2 2 0 2 4 0 4 4 2 4 2 3 4 0 2 2 2 4\n",
       " [149] 4 2 2 4 3 4 4 4 4 0 3 3 1 3 4 1 4 2 1 4 0 0 3 1 4 1 4 1 4 1 2 0 3 1 2 2 2\n",
       " [186] 2 1 2 4 2 1 3 0 3 3 4 2 1 3 3 2 0 0 1 1 3 2 1 3 1 4 2 3 0 1 1 2 3 4 1 3 3\n",
       " [223] 1 4 0 2 1 3 2 1 0 1 2 3 2 0 3 3 1 0 1 2 3 1 0 0 1 1 4 2 1 1 0 1 4 2 0 3 4\n",
       " [260] 0 3 2 2 2 2 2 0 1 0 1 1 4 3 2 3 1 0 1 2 1 4 2 2 4 4 2 3 1 2 4 3 2 3 0 1 2\n",
       " [297] 0 1 3 3 2 2 0 2 0 2 0 1 3 2 1 2 1 1 1 2 0 3 0 0 1 2 0 1 1 1 0 2 0 2 3 0 0\n",
       " [334] 4 4 3 0 3 1 4 0 4 2 1 1 0 0 3 1 4 2 0 1 1 1 2 3 0 3 1 0 2 0 3 2 2 4 2 1 3\n",
       " [371] 1 2 2 2 4 3 3 1 1 0 3 1 4 4 1 4 2 4 1 1 1 3 2 2 4 1 2 2 2 2 2 1 2 4 0 1 1\n",
       " [408] 3 2 1 2 3 3 0 0 0 1 2 1 2 2 2 1 4 2 2 4 3 3 3 3 4 1 2 2 1 3 2 3 2 0 1 1 2\n",
       " [445] 3 3 4 3 1 0 3 1 3 2 4 2 2 3 0 3 2 1 4 3 0 4 1 3 1 0 3 4 1 4 1 4 1 3 2 4 1\n",
       " [482] 4 2 4 2 1 2 2 4 3 1 4 1 2 4 3 3 1 2 1 4 4 0 2 2 2 1 2 2 2 3 1 0 3 3 3 1 3\n",
       " [519] 1 2 0 0 1 4 2 4 2 3 4 2 3 2 2 4 2 3 0 2 3 1 1 2 1 2 4 1 0 0 3 2 2 1 3 2 3\n",
       " [556] 0 2 3 2 1 0 3 1 1 3 0 1 1 4 3 2 3 4 1 1 2 1 3 0 4 2 1 0 1 3 1 1 1 1 1 1 1\n",
       " [593] 0 1 2 0 1 1 2 0 0 1 0 1 2 2 2 1 2 1 4 1 3 4 2 3 0 3 1 4 2 2 4 0 0 2 1 1 1\n",
       " [630] 4 2 2 3 4 0 2 1 2 1 4 3 0 2 2 4 2 1 0 1 2 4 0 1 0 3 2 2 1 1 4 0 3 2 3 4 2\n",
       " [667] 0 0 2 2 0 1 4 2 1 1 2 2 1 4 2 4 2 1 1 0 1 1 3 1 1 2 0 2 0 1 3 2 1 1 2 2 1\n",
       " [704] 0 3 3 1 2 1 3 1 1 1 2 3 0 3 4 1 3 3 3 1 4 2 4 2 1 4 0 4 1 2 4 1 2 3 1 3 3\n",
       " [741] 2 3 0 4 2 2 3 3 1 1 1 0 2 1 1 2 2 1 4 0 1 4 3 4 1 3 2 2 4 3 1 4 1 2 3 1 2\n",
       " [778] 3 1 2 1 2 1 1 3 4 4 1 4 1 4 2 2 2 0 1 1 4 1 2 3 3 0 0 2 2 3 1 4 2 2 3 4 1\n",
       " [815] 3 1 3 3 1 2 3 1 2 4 0 0 2 0 2 3 1 3 1 0 1 4 4 2 2 2 1 3 1 0 4 0 1 1 4 2 2\n",
       " [852] 2 2 3 2 4 3 0 1 1 3 1 1 1 1 1 4 0 1 3 4 3 1 2 2 4 0 0 2 1 1 0 1 2 1 1 0 2\n",
       " [889] 2 1 4 3 2 2 1 1 3 1 2 2 0 1 4 0 1 0 2 1 0 0 4 4 1 3 2 1 0 0 1 3 0 4 1 1 3\n",
       " [926] 1 0 4 1 2 4 2 2 1 3 0 3 2 3 3 3 2 2 2 2 3 3 3 2 1 1 2 1 0 0 1 2 2 1 3 2 2\n",
       " [963] 4 2 2 3 4 3 1 1 2 2 0 4 4 0 1 1 1 0 3 3 1 1 1 2 4 4 2 1 1 1 1 3 3 3 1 0 4\n",
       "[1000] 0\n",
       "Levels: 0 1 2 3 4"
      ]
     },
     "metadata": {},
     "output_type": "display_data"
    }
   ],
   "source": [
    "educ_FC <- as.factor(educ)\n",
    "educ_FC"
   ]
  },
  {
   "cell_type": "code",
   "execution_count": 21,
   "id": "b90f2bf2",
   "metadata": {},
   "outputs": [
    {
     "data": {
      "text/plain": [
       "educ_FC\n",
       "  0   1   2   3   4 \n",
       "140 274 267 181 138 "
      ]
     },
     "metadata": {},
     "output_type": "display_data"
    }
   ],
   "source": [
    "tab_edu <- table(educ_FC) \n",
    "tab_edu"
   ]
  },
  {
   "cell_type": "markdown",
   "id": "71369500",
   "metadata": {},
   "source": [
    "Education coded as 2 is the most common. "
   ]
  },
  {
   "cell_type": "code",
   "execution_count": 22,
   "id": "17a78d42",
   "metadata": {},
   "outputs": [
    {
     "data": {
      "text/plain": [
       "   0    1    2    3    4 \n",
       "<NA> <NA> <NA> <NA> <NA> \n",
       "5 Levels: Secondary Education No formal education ... Post-graduate Education"
      ]
     },
     "metadata": {},
     "output_type": "display_data"
    }
   ],
   "source": [
    "edu_REORDER <- factor(tab_edu, levels = c(\"Secondary Education\", \n",
    "                                         \"No formal education\", \n",
    "                                         \"Primary Education\",\n",
    "                                         \"College Education\", \n",
    "                                         \"Post-graduate Education\"))\n",
    "edu_REORDER"
   ]
  },
  {
   "cell_type": "markdown",
   "id": "cd26bf4b",
   "metadata": {
    "slideshow": {
     "slide_type": "slide"
    }
   },
   "source": [
    "## Exercise 5: Conditional statements and loops  (20 points)\n",
    "\n",
    "[Levenshtein distance](https://en.wikipedia.org/wiki/Levenshtein_distance) is a string distance metric that measures how many transformations (insertion, deletion, substitution) are required to convert one string into another. For example, consider words 'cat' and 'can'. Letter 't' in the first word can be substituted with a character 'n' in order for the two words to become identical.\n",
    "\n",
    "For classical Levenshtein distance each of the transformations has the same cost of 1. In other words, the distance (of 1) is the same between the word pairs 'cat' - 'can' and 'cat' - 'cats'.\n",
    "\n",
    "Below you can see two character vectors that were transformed to have a single letter as an individual element. Write a loop to compare each of the elements from one string to each of the elements from another string while keeping track of the number of transformations. Print out the result of the transformations count."
   ]
  },
  {
   "cell_type": "code",
   "execution_count": 23,
   "id": "211e64a6",
   "metadata": {
    "slideshow": {
     "slide_type": "fragment"
    }
   },
   "outputs": [],
   "source": [
    "char_1 <- unlist(strsplit(\"kitten\", split = \"\"))\n",
    "char_2 <- unlist(strsplit(\"sitting\", split = \"\"))"
   ]
  },
  {
   "cell_type": "code",
   "execution_count": 24,
   "id": "e7e4e266",
   "metadata": {
    "slideshow": {
     "slide_type": "fragment"
    }
   },
   "outputs": [
    {
     "data": {
      "text/plain": [
       "[1] \"k\" \"i\" \"t\" \"t\" \"e\" \"n\""
      ]
     },
     "metadata": {},
     "output_type": "display_data"
    }
   ],
   "source": [
    "char_1"
   ]
  },
  {
   "cell_type": "code",
   "execution_count": 25,
   "id": "d09f32e6",
   "metadata": {
    "slideshow": {
     "slide_type": "fragment"
    }
   },
   "outputs": [
    {
     "data": {
      "text/plain": [
       "[1] \"s\" \"i\" \"t\" \"t\" \"i\" \"n\" \"g\""
      ]
     },
     "metadata": {},
     "output_type": "display_data"
    }
   ],
   "source": [
    "char_2"
   ]
  },
  {
   "cell_type": "code",
   "execution_count": 26,
   "id": "4ee7ce48",
   "metadata": {
    "slideshow": {
     "slide_type": "fragment"
    }
   },
   "outputs": [],
   "source": [
    "# Exercise 5:\n",
    "\n",
    "# Your code goes here"
   ]
  },
  {
   "cell_type": "code",
   "execution_count": 27,
   "id": "f29fa521",
   "metadata": {},
   "outputs": [
    {
     "data": {
      "text/plain": [
       "[1] 6"
      ]
     },
     "metadata": {},
     "output_type": "display_data"
    }
   ],
   "source": [
    "length(char_1)\n",
    "\n",
    "char_1_mod <- append(char_1, \"0\") "
   ]
  },
  {
   "cell_type": "markdown",
   "id": "ca643879",
   "metadata": {},
   "source": [
    "The length of char_1 is 6"
   ]
  },
  {
   "cell_type": "code",
   "execution_count": 28,
   "id": "1c5bec74",
   "metadata": {},
   "outputs": [
    {
     "data": {
      "text/plain": [
       "[1] 7"
      ]
     },
     "metadata": {},
     "output_type": "display_data"
    }
   ],
   "source": [
    "length(char_2)"
   ]
  },
  {
   "cell_type": "markdown",
   "id": "28d1b1ac",
   "metadata": {},
   "source": [
    "The length of char_2 is 7"
   ]
  },
  {
   "cell_type": "code",
   "execution_count": 29,
   "id": "affccba1",
   "metadata": {},
   "outputs": [],
   "source": [
    "char_1_mod <- append(char_1, \"0\")"
   ]
  },
  {
   "cell_type": "markdown",
   "id": "a4c65076",
   "metadata": {},
   "source": [
    "add \"0\" at the end of char_1, making it the same length as char_2 "
   ]
  },
  {
   "cell_type": "code",
   "execution_count": 30,
   "id": "50d23091",
   "metadata": {},
   "outputs": [],
   "source": [
    "num_tra <- 0\n",
    "num_tra  <- ifelse(char_2 == char_1_mod, num_tra, num_tra +1)"
   ]
  },
  {
   "cell_type": "code",
   "execution_count": 31,
   "id": "d265b40e",
   "metadata": {},
   "outputs": [
    {
     "data": {
      "text/plain": [
       "[1] 3"
      ]
     },
     "metadata": {},
     "output_type": "display_data"
    }
   ],
   "source": [
    "sum(num_tra) #  there are 3 transformations"
   ]
  },
  {
   "cell_type": "markdown",
   "id": "2bb63020",
   "metadata": {},
   "source": [
    "There are 3 transformations"
   ]
  }
 ],
 "metadata": {
  "celltoolbar": "Slideshow",
  "kernelspec": {
   "display_name": "R",
   "language": "R",
   "name": "ir"
  },
  "language_info": {
   "codemirror_mode": "r",
   "file_extension": ".r",
   "mimetype": "text/x-r-source",
   "name": "R",
   "pygments_lexer": "r",
   "version": "3.6.1"
  }
 },
 "nbformat": 4,
 "nbformat_minor": 5
}
