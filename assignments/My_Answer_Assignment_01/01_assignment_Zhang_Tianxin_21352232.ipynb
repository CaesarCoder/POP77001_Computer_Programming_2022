{
 "cells": [
  {
   "cell_type": "code",
   "execution_count": 1,
   "id": "0f90c9f4",
   "metadata": {
    "slideshow": {
     "slide_type": "skip"
    }
   },
   "outputs": [],
   "source": [
    "options(jupyter.rich_display = FALSE)"
   ]
  },
  {
   "cell_type": "markdown",
   "id": "31d2cf7f",
   "metadata": {
    "slideshow": {
     "slide_type": "slide"
    }
   },
   "source": [
    "# Assignment 1: R Basics and Control Flow\n",
    "\n",
    "## POP77001 Computer Programming for Social Scientists"
   ]
  },
  {
   "cell_type": "markdown",
   "id": "8c6e5f0b",
   "metadata": {
    "slideshow": {
     "slide_type": "slide"
    }
   },
   "source": [
    "## Before submission\n",
    "\n",
    "- Make sure that you can run all cells without errors\n",
    "- You can do it by clicking `Kernel`, `Restart & Run All` in the menu above\n",
    "- Make sure that you save the output by pressing Command+S / CTRL+S\n",
    "- Rename the file from `01_assignment.ipynb` to `01_assignment_lastname_firstname_studentnumber.ipynb`\n",
    "- Use Firefox browser for submitting your Jupyter notebook on Blackboard"
   ]
  },
  {
   "cell_type": "markdown",
   "id": "415b8791",
   "metadata": {
    "slideshow": {
     "slide_type": "slide"
    }
   },
   "source": [
    "## Exercise 1: Subsetting (20 points)\n",
    "\n",
    "Write 3 separate subsetting operations to extract the following elements from the list below:\n",
    "- All consonants from the first character vector\n",
    "- Second columns in all dimensions from the array A\n",
    "- Odd rows from the matrix M"
   ]
  },
  {
   "cell_type": "code",
   "execution_count": 2,
   "id": "ebd7be68",
   "metadata": {
    "slideshow": {
     "slide_type": "fragment"
    }
   },
   "outputs": [],
   "source": [
    "l <- list(\n",
    "    mapply(assign, letters, 1:26),\n",
    "    A = array(1:60, c(5,2,3)),\n",
    "    M = matrix(1:50, c(10,5))\n",
    ")"
   ]
  },
  {
   "cell_type": "code",
   "execution_count": 3,
   "id": "d6f6e3f2",
   "metadata": {
    "slideshow": {
     "slide_type": "fragment"
    }
   },
   "outputs": [
    {
     "data": {
      "text/plain": [
       "[[1]]\n",
       " a  b  c  d  e  f  g  h  i  j  k  l  m  n  o  p  q  r  s  t  u  v  w  x  y  z \n",
       " 1  2  3  4  5  6  7  8  9 10 11 12 13 14 15 16 17 18 19 20 21 22 23 24 25 26 \n",
       "\n",
       "$A\n",
       ", , 1\n",
       "\n",
       "     [,1] [,2]\n",
       "[1,]    1    6\n",
       "[2,]    2    7\n",
       "[3,]    3    8\n",
       "[4,]    4    9\n",
       "[5,]    5   10\n",
       "\n",
       ", , 2\n",
       "\n",
       "     [,1] [,2]\n",
       "[1,]   11   16\n",
       "[2,]   12   17\n",
       "[3,]   13   18\n",
       "[4,]   14   19\n",
       "[5,]   15   20\n",
       "\n",
       ", , 3\n",
       "\n",
       "     [,1] [,2]\n",
       "[1,]   21   26\n",
       "[2,]   22   27\n",
       "[3,]   23   28\n",
       "[4,]   24   29\n",
       "[5,]   25   30\n",
       "\n",
       "\n",
       "$M\n",
       "      [,1] [,2] [,3] [,4] [,5]\n",
       " [1,]    1   11   21   31   41\n",
       " [2,]    2   12   22   32   42\n",
       " [3,]    3   13   23   33   43\n",
       " [4,]    4   14   24   34   44\n",
       " [5,]    5   15   25   35   45\n",
       " [6,]    6   16   26   36   46\n",
       " [7,]    7   17   27   37   47\n",
       " [8,]    8   18   28   38   48\n",
       " [9,]    9   19   29   39   49\n",
       "[10,]   10   20   30   40   50\n"
      ]
     },
     "metadata": {},
     "output_type": "display_data"
    }
   ],
   "source": [
    "l"
   ]
  },
  {
   "cell_type": "code",
   "execution_count": 4,
   "id": "2e749c9d",
   "metadata": {
    "slideshow": {
     "slide_type": "fragment"
    }
   },
   "outputs": [],
   "source": [
    "# Exercise 1:\n",
    "\n",
    "# Your code goes here\n"
   ]
  },
  {
   "cell_type": "markdown",
   "id": "ac41e8c6",
   "metadata": {},
   "source": [
    "1. All consonants from the first character vector"
   ]
  },
  {
   "cell_type": "code",
   "execution_count": 5,
   "id": "8658ada3",
   "metadata": {},
   "outputs": [
    {
     "name": "stdout",
     "output_type": "stream",
     "text": [
      " Named int [1:26] 1 2 3 4 5 6 7 8 9 10 ...\n",
      " - attr(*, \"names\")= chr [1:26] \"a\" \"b\" \"c\" \"d\" ...\n"
     ]
    },
    {
     "data": {
      "text/plain": [
       " b  c  d  f  g  h  j  k  l  m  n  p  q  r  s  t  v  w  x  y  z \n",
       " 2  3  4  6  7  8 10 11 12 13 14 16 17 18 19 20 22 23 24 25 26 "
      ]
     },
     "metadata": {},
     "output_type": "display_data"
    },
    {
     "name": "stdout",
     "output_type": "stream",
     "text": [
      " Named int [1:21] 2 3 4 6 7 8 10 11 12 13 ...\n",
      " - attr(*, \"names\")= chr [1:21] \"b\" \"c\" \"d\" \"f\" ...\n"
     ]
    }
   ],
   "source": [
    "LETTERS <- l[[1]]\n",
    "str(LETTERS)\n",
    "CONSONANTS <- LETTERS[c(\"b\", \"c\", \"d\", \"f\", \"g\", \"h\", \"j\", \"k\",\n",
    "                        \"l\", \"m\", \"n\", \"p\", \"q\", \"r\", \"s\", \n",
    "                        \"t\", \"v\", \"w\", \"x\", \"y\", \"z\")]\n",
    "CONSONANTS\n",
    "str(CONSONANTS) ## 21 character vectors"
   ]
  },
  {
   "cell_type": "markdown",
   "id": "77d74060",
   "metadata": {},
   "source": [
    "2. Second columns in all dimensions from the array A"
   ]
  },
  {
   "cell_type": "code",
   "execution_count": 6,
   "id": "921f8931",
   "metadata": {},
   "outputs": [
    {
     "data": {
      "text/plain": [
       "     [,1] [,2] [,3]\n",
       "[1,]  6   16   26  \n",
       "[2,]  7   17   27  \n",
       "[3,]  8   18   28  \n",
       "[4,]  9   19   29  \n",
       "[5,] 10   20   30  "
      ]
     },
     "metadata": {},
     "output_type": "display_data"
    }
   ],
   "source": [
    "SDA <- l$A[, 2, ]\n",
    "\n",
    "SDA"
   ]
  },
  {
   "cell_type": "markdown",
   "id": "4464d869",
   "metadata": {},
   "source": [
    "3. Odd rows from the matrix M"
   ]
  },
  {
   "cell_type": "code",
   "execution_count": 7,
   "id": "ebda882d",
   "metadata": {},
   "outputs": [
    {
     "data": {
      "text/plain": [
       "      [,1] [,2] [,3] [,4] [,5]\n",
       " [1,]  1   11   21   31   41  \n",
       " [2,]  2   12   22   32   42  \n",
       " [3,]  3   13   23   33   43  \n",
       " [4,]  4   14   24   34   44  \n",
       " [5,]  5   15   25   35   45  \n",
       " [6,]  6   16   26   36   46  \n",
       " [7,]  7   17   27   37   47  \n",
       " [8,]  8   18   28   38   48  \n",
       " [9,]  9   19   29   39   49  \n",
       "[10,] 10   20   30   40   50  "
      ]
     },
     "metadata": {},
     "output_type": "display_data"
    },
    {
     "data": {
      "text/plain": [
       " [1] 1 0 1 0 1 0 1 0 1 0"
      ]
     },
     "metadata": {},
     "output_type": "display_data"
    },
    {
     "data": {
      "text/plain": [
       "     [,1] [,2] [,3] [,4] [,5]\n",
       "[1,] 1    11   21   31   41  \n",
       "[2,] 3    13   23   33   43  \n",
       "[3,] 5    15   25   35   45  \n",
       "[4,] 7    17   27   37   47  \n",
       "[5,] 9    19   29   39   49  "
      ]
     },
     "metadata": {},
     "output_type": "display_data"
    }
   ],
   "source": [
    "MC1 <- l$M\n",
    "MC1\n",
    "\n",
    "MROWS_ODD <- seq_len(nrow(MC1)) %% 2   \n",
    "\n",
    "MROWS_ODD\n",
    "\n",
    "MC1_ODDROWS <- MC1[MROWS_ODD == 1, ]    \n",
    "MC1_ODDROWS # Odd rows from the Matrix M"
   ]
  },
  {
   "cell_type": "markdown",
   "id": "83f1117f",
   "metadata": {
    "slideshow": {
     "slide_type": "slide"
    }
   },
   "source": [
    "## Exercise 2: Working with vectors  (20 points)\n",
    "\n",
    "Look at the vector below. What is its type? Convert it into numeric. Note that some values get missing due to letter `o` used instead of digit `0`. What proportion of the vector elements did we fail to convert correctly? Now let us fix this issue. Using either subsetting and assignment or `ifelse()` function replace all `NA`s in the converted numeric vector into `0` (zeros)."
   ]
  },
  {
   "cell_type": "code",
   "execution_count": 8,
   "id": "a623da72",
   "metadata": {
    "slideshow": {
     "slide_type": "fragment"
    }
   },
   "outputs": [],
   "source": [
    "set.seed(2022)\n",
    "vec <- sample(c(\"1\", \"0\", \"o\"), size = 100, replace = TRUE)"
   ]
  },
  {
   "cell_type": "code",
   "execution_count": 9,
   "id": "006e6e65",
   "metadata": {
    "slideshow": {
     "slide_type": "fragment"
    }
   },
   "outputs": [],
   "source": [
    "# Exercise 2:\n",
    "\n",
    "# Your code goes here"
   ]
  },
  {
   "cell_type": "code",
   "execution_count": 10,
   "id": "7a77a6d4",
   "metadata": {},
   "outputs": [
    {
     "data": {
      "text/plain": [
       "  [1] \"o\" \"0\" \"o\" \"o\" \"0\" \"o\" \"0\" \"o\" \"1\" \"0\" \"o\" \"1\" \"0\" \"o\" \"0\" \"1\" \"1\" \"o\"\n",
       " [19] \"1\" \"0\" \"0\" \"o\" \"1\" \"o\" \"0\" \"o\" \"o\" \"0\" \"1\" \"o\" \"o\" \"0\" \"o\" \"1\" \"0\" \"0\"\n",
       " [37] \"1\" \"o\" \"o\" \"0\" \"o\" \"1\" \"o\" \"o\" \"1\" \"0\" \"o\" \"1\" \"0\" \"1\" \"1\" \"o\" \"o\" \"0\"\n",
       " [55] \"1\" \"o\" \"0\" \"0\" \"o\" \"o\" \"o\" \"1\" \"0\" \"o\" \"0\" \"1\" \"o\" \"0\" \"0\" \"1\" \"1\" \"0\"\n",
       " [73] \"0\" \"1\" \"0\" \"o\" \"o\" \"0\" \"1\" \"o\" \"1\" \"o\" \"0\" \"o\" \"1\" \"o\" \"1\" \"o\" \"o\" \"o\"\n",
       " [91] \"o\" \"0\" \"0\" \"1\" \"o\" \"0\" \"1\" \"1\" \"0\" \"1\""
      ]
     },
     "metadata": {},
     "output_type": "display_data"
    },
    {
     "data": {
      "text/plain": [
       "[1] \"character\""
      ]
     },
     "metadata": {},
     "output_type": "display_data"
    }
   ],
   "source": [
    "vec\n",
    "typeof(vec)"
   ]
  },
  {
   "cell_type": "markdown",
   "id": "a1771a5c",
   "metadata": {},
   "source": [
    "It is character vector."
   ]
  },
  {
   "cell_type": "code",
   "execution_count": 11,
   "id": "b76e50ec",
   "metadata": {},
   "outputs": [
    {
     "name": "stderr",
     "output_type": "stream",
     "text": [
      "Warning message in eval(expr, envir, enclos):\n",
      "\"NAs introduced by coercion\""
     ]
    }
   ],
   "source": [
    "vec_nu<- as.numeric(vec)"
   ]
  },
  {
   "cell_type": "code",
   "execution_count": 12,
   "id": "a60b7532",
   "metadata": {},
   "outputs": [
    {
     "name": "stdout",
     "output_type": "stream",
     "text": [
      " chr [1:100] \"o\" \"0\" \"o\" \"o\" \"0\" \"o\" \"0\" \"o\" \"1\" \"0\" \"o\" \"1\" \"0\" \"o\" \"0\" ...\n",
      " int [1:40] 1 3 4 6 8 11 14 18 22 24 ...\n"
     ]
    }
   ],
   "source": [
    "str(vec)\n",
    "CO <- which(vec == \"o\")  # \"o\"\n",
    "str(CO) "
   ]
  },
  {
   "cell_type": "markdown",
   "id": "1a24cc80",
   "metadata": {},
   "source": [
    "There are 40 \"o\" in total, accounting for 40%."
   ]
  },
  {
   "cell_type": "code",
   "execution_count": 13,
   "id": "0b435fa8",
   "metadata": {},
   "outputs": [
    {
     "data": {
      "text/plain": [
       "  [1] \"0\" \"0\" \"0\" \"0\" \"0\" \"0\" \"0\" \"0\" \"1\" \"0\" \"0\" \"1\" \"0\" \"0\" \"0\" \"1\" \"1\" \"0\"\n",
       " [19] \"1\" \"0\" \"0\" \"0\" \"1\" \"0\" \"0\" \"0\" \"0\" \"0\" \"1\" \"0\" \"0\" \"0\" \"0\" \"1\" \"0\" \"0\"\n",
       " [37] \"1\" \"0\" \"0\" \"0\" \"0\" \"1\" \"0\" \"0\" \"1\" \"0\" \"0\" \"1\" \"0\" \"1\" \"1\" \"0\" \"0\" \"0\"\n",
       " [55] \"1\" \"0\" \"0\" \"0\" \"0\" \"0\" \"0\" \"1\" \"0\" \"0\" \"0\" \"1\" \"0\" \"0\" \"0\" \"1\" \"1\" \"0\"\n",
       " [73] \"0\" \"1\" \"0\" \"0\" \"0\" \"0\" \"1\" \"0\" \"1\" \"0\" \"0\" \"0\" \"1\" \"0\" \"1\" \"0\" \"0\" \"0\"\n",
       " [91] \"0\" \"0\" \"0\" \"1\" \"0\" \"0\" \"1\" \"1\" \"0\" \"1\""
      ]
     },
     "metadata": {},
     "output_type": "display_data"
    }
   ],
   "source": [
    "vec_NEW <- ifelse(vec == \"o\",0, vec)\n",
    "vec_NEW"
   ]
  },
  {
   "cell_type": "markdown",
   "id": "a550f631",
   "metadata": {},
   "source": [
    "##Get the which() function here:  https://www.r-bloggers.com/2017/03/which-function-in-r/"
   ]
  },
  {
   "cell_type": "markdown",
   "id": "103ff543",
   "metadata": {
    "slideshow": {
     "slide_type": "slide"
    }
   },
   "source": [
    "## Exercise 3: Vectorized operations  (20 points)\n",
    "\n",
    "Using function `mean()` calculate the percentage of book titles in the vector below that have more than 10 characters in them (including whitespaces).\n",
    "\n",
    "Tip: You can use `nchar()` function to calculate the number of characters in a vector"
   ]
  },
  {
   "cell_type": "code",
   "execution_count": 14,
   "id": "515a1626",
   "metadata": {
    "slideshow": {
     "slide_type": "fragment"
    }
   },
   "outputs": [],
   "source": [
    "books <- c(\n",
    "  \"Dubliners\",\n",
    "  \"Ulysses\",\n",
    "  \"War and Peace\",\n",
    "  \"Normal People\",\n",
    "  \"Crime and Punishment\",\n",
    "  \"The Picture of Dorian Gray\"\n",
    ")"
   ]
  },
  {
   "cell_type": "code",
   "execution_count": 15,
   "id": "327a3aeb",
   "metadata": {
    "slideshow": {
     "slide_type": "fragment"
    }
   },
   "outputs": [],
   "source": [
    "# Exercise 3:\n",
    "\n",
    "# Your code goes here"
   ]
  },
  {
   "cell_type": "code",
   "execution_count": 16,
   "id": "ab546226",
   "metadata": {},
   "outputs": [
    {
     "data": {
      "text/plain": [
       "[1]  9  7 13 13 20 26"
      ]
     },
     "metadata": {},
     "output_type": "display_data"
    }
   ],
   "source": [
    "NCB <- nchar(books)\n",
    "NCB "
   ]
  },
  {
   "cell_type": "code",
   "execution_count": 17,
   "id": "40af4af9",
   "metadata": {},
   "outputs": [
    {
     "data": {
      "text/plain": [
       "[1] 66.66667"
      ]
     },
     "metadata": {},
     "output_type": "display_data"
    }
   ],
   "source": [
    "NCBOT <- mean(NCB > 10)*100\n",
    "NCBOT"
   ]
  },
  {
   "cell_type": "markdown",
   "id": "16f5c795",
   "metadata": {},
   "source": [
    "#There are 60 percent of book titles in the vector below that have more than 10 characters in them"
   ]
  },
  {
   "cell_type": "markdown",
   "id": "25fe11d3",
   "metadata": {},
   "source": [
    "##Get the mean() function here: https://www.r-bloggers.com/2016/07/proportions-with-mean/ "
   ]
  },
  {
   "cell_type": "markdown",
   "id": "182826c2",
   "metadata": {
    "slideshow": {
     "slide_type": "slide"
    }
   },
   "source": [
    "## Exercise 4: Attributes and factors  (20 points)\n",
    "\n",
    "Suppose you read in a variable which represents education of survey respondents. After consulting the codebook for this survey you determined that specific values that the variable takes are coded as follows:\n",
    "\n",
    "- `0` - No formal education\n",
    "- `1` - Primary Education\n",
    "- `2` - Secondary Education\n",
    "- `3` - College Education\n",
    "- `4` - Post-graduate Education\n",
    "\n",
    "Convert the variable `educ` below into a factor variable with each value coded explicitly as one of the education levels. Tabulate the variable using `table()` function. Change the order of the levels of this factor variable such that the most common education level is the first (baseline/reference) category (you can leave other education levels in their origianl order). Tabulate the variable again.   "
   ]
  },
  {
   "cell_type": "code",
   "execution_count": 18,
   "id": "856b7253",
   "metadata": {
    "slideshow": {
     "slide_type": "fragment"
    }
   },
   "outputs": [],
   "source": [
    "set.seed(2022)\n",
    "educ <- rpois(1000, 2)\n",
    "educ <- ifelse(educ > 4, 4, educ)"
   ]
  },
  {
   "cell_type": "code",
   "execution_count": 19,
   "id": "e94963c1",
   "metadata": {
    "slideshow": {
     "slide_type": "fragment"
    }
   },
   "outputs": [],
   "source": [
    "# Exercise 4:\n",
    "\n",
    "# Your code goes here"
   ]
  },
  {
   "cell_type": "code",
   "execution_count": 20,
   "id": "6980f657",
   "metadata": {},
   "outputs": [
    {
     "data": {
      "text/plain": [
       "   [1] 3 2 0 2 1 2 0 0 1 3 0 1 1 2 2 0 3 2 2 3 3 2 2 1 1 4 2 4 2 3 2 2 1 1 1 0 3\n",
       "  [38] 2 3 3 2 2 2 2 4 0 4 2 1 3 1 1 3 1 2 2 1 2 1 1 2 2 3 3 0 3 2 2 1 2 4 4 4 3\n",
       "  [75] 2 0 2 3 2 2 1 1 3 3 0 1 0 1 2 3 1 1 2 2 1 1 0 4 2 3 4 1 3 3 2 1 4 0 2 4 3\n",
       " [112] 1 2 1 4 2 1 2 2 3 0 1 0 0 1 3 2 2 1 3 2 2 0 2 4 0 4 4 2 4 2 3 4 0 2 2 2 4\n",
       " [149] 4 2 2 4 3 4 4 4 4 0 3 3 1 3 4 1 4 2 1 4 0 0 3 1 4 1 4 1 4 1 2 0 3 1 2 2 2\n",
       " [186] 2 1 2 4 2 1 3 0 3 3 4 2 1 3 3 2 0 0 1 1 3 2 1 3 1 4 2 3 0 1 1 2 3 4 1 3 3\n",
       " [223] 1 4 0 2 1 3 2 1 0 1 2 3 2 0 3 3 1 0 1 2 3 1 0 0 1 1 4 2 1 1 0 1 4 2 0 3 4\n",
       " [260] 0 3 2 2 2 2 2 0 1 0 1 1 4 3 2 3 1 0 1 2 1 4 2 2 4 4 2 3 1 2 4 3 2 3 0 1 2\n",
       " [297] 0 1 3 3 2 2 0 2 0 2 0 1 3 2 1 2 1 1 1 2 0 3 0 0 1 2 0 1 1 1 0 2 0 2 3 0 0\n",
       " [334] 4 4 3 0 3 1 4 0 4 2 1 1 0 0 3 1 4 2 0 1 1 1 2 3 0 3 1 0 2 0 3 2 2 4 2 1 3\n",
       " [371] 1 2 2 2 4 3 3 1 1 0 3 1 4 4 1 4 2 4 1 1 1 3 2 2 4 1 2 2 2 2 2 1 2 4 0 1 1\n",
       " [408] 3 2 1 2 3 3 0 0 0 1 2 1 2 2 2 1 4 2 2 4 3 3 3 3 4 1 2 2 1 3 2 3 2 0 1 1 2\n",
       " [445] 3 3 4 3 1 0 3 1 3 2 4 2 2 3 0 3 2 1 4 3 0 4 1 3 1 0 3 4 1 4 1 4 1 3 2 4 1\n",
       " [482] 4 2 4 2 1 2 2 4 3 1 4 1 2 4 3 3 1 2 1 4 4 0 2 2 2 1 2 2 2 3 1 0 3 3 3 1 3\n",
       " [519] 1 2 0 0 1 4 2 4 2 3 4 2 3 2 2 4 2 3 0 2 3 1 1 2 1 2 4 1 0 0 3 2 2 1 3 2 3\n",
       " [556] 0 2 3 2 1 0 3 1 1 3 0 1 1 4 3 2 3 4 1 1 2 1 3 0 4 2 1 0 1 3 1 1 1 1 1 1 1\n",
       " [593] 0 1 2 0 1 1 2 0 0 1 0 1 2 2 2 1 2 1 4 1 3 4 2 3 0 3 1 4 2 2 4 0 0 2 1 1 1\n",
       " [630] 4 2 2 3 4 0 2 1 2 1 4 3 0 2 2 4 2 1 0 1 2 4 0 1 0 3 2 2 1 1 4 0 3 2 3 4 2\n",
       " [667] 0 0 2 2 0 1 4 2 1 1 2 2 1 4 2 4 2 1 1 0 1 1 3 1 1 2 0 2 0 1 3 2 1 1 2 2 1\n",
       " [704] 0 3 3 1 2 1 3 1 1 1 2 3 0 3 4 1 3 3 3 1 4 2 4 2 1 4 0 4 1 2 4 1 2 3 1 3 3\n",
       " [741] 2 3 0 4 2 2 3 3 1 1 1 0 2 1 1 2 2 1 4 0 1 4 3 4 1 3 2 2 4 3 1 4 1 2 3 1 2\n",
       " [778] 3 1 2 1 2 1 1 3 4 4 1 4 1 4 2 2 2 0 1 1 4 1 2 3 3 0 0 2 2 3 1 4 2 2 3 4 1\n",
       " [815] 3 1 3 3 1 2 3 1 2 4 0 0 2 0 2 3 1 3 1 0 1 4 4 2 2 2 1 3 1 0 4 0 1 1 4 2 2\n",
       " [852] 2 2 3 2 4 3 0 1 1 3 1 1 1 1 1 4 0 1 3 4 3 1 2 2 4 0 0 2 1 1 0 1 2 1 1 0 2\n",
       " [889] 2 1 4 3 2 2 1 1 3 1 2 2 0 1 4 0 1 0 2 1 0 0 4 4 1 3 2 1 0 0 1 3 0 4 1 1 3\n",
       " [926] 1 0 4 1 2 4 2 2 1 3 0 3 2 3 3 3 2 2 2 2 3 3 3 2 1 1 2 1 0 0 1 2 2 1 3 2 2\n",
       " [963] 4 2 2 3 4 3 1 1 2 2 0 4 4 0 1 1 1 0 3 3 1 1 1 2 4 4 2 1 1 1 1 3 3 3 1 0 4\n",
       "[1000] 0\n",
       "Levels: 0 1 2 3 4"
      ]
     },
     "metadata": {},
     "output_type": "display_data"
    }
   ],
   "source": [
    "educ_FC <- as.factor(educ)\n",
    "educ_FC"
   ]
  },
  {
   "cell_type": "code",
   "execution_count": 21,
   "id": "b90f2bf2",
   "metadata": {},
   "outputs": [
    {
     "data": {
      "text/plain": [
       "educ_FC\n",
       "  0   1   2   3   4 \n",
       "140 274 267 181 138 "
      ]
     },
     "metadata": {},
     "output_type": "display_data"
    }
   ],
   "source": [
    "tab_edu <- table(educ_FC) \n",
    "tab_edu"
   ]
  },
  {
   "cell_type": "markdown",
   "id": "71369500",
   "metadata": {},
   "source": [
    "Education level coded as 1 (primary school) is the most common. "
   ]
  },
  {
   "cell_type": "code",
   "execution_count": 22,
   "id": "17a78d42",
   "metadata": {},
   "outputs": [],
   "source": [
    "levels(educ_FC) <- c(\"No formal education\", \n",
    "                     \"Primary Education\",\n",
    "                     \"Secondary Education\",\n",
    "                     \"College Education\", \n",
    "                     \"Post-graduate Education\")"
   ]
  },
  {
   "cell_type": "markdown",
   "id": "a5cda3b3",
   "metadata": {},
   "source": [
    "assigning characters to levels in factor educ_FC"
   ]
  },
  {
   "cell_type": "code",
   "execution_count": 23,
   "id": "4ebf8069",
   "metadata": {},
   "outputs": [
    {
     "data": {
      "text/plain": [
       "   [1] College Education       Secondary Education     No formal education    \n",
       "   [4] Secondary Education     Primary Education       Secondary Education    \n",
       "   [7] No formal education     No formal education     Primary Education      \n",
       "  [10] College Education       No formal education     Primary Education      \n",
       "  [13] Primary Education       Secondary Education     Secondary Education    \n",
       "  [16] No formal education     College Education       Secondary Education    \n",
       "  [19] Secondary Education     College Education       College Education      \n",
       "  [22] Secondary Education     Secondary Education     Primary Education      \n",
       "  [25] Primary Education       Post-graduate Education Secondary Education    \n",
       "  [28] Post-graduate Education Secondary Education     College Education      \n",
       "  [31] Secondary Education     Secondary Education     Primary Education      \n",
       "  [34] Primary Education       Primary Education       No formal education    \n",
       "  [37] College Education       Secondary Education     College Education      \n",
       "  [40] College Education       Secondary Education     Secondary Education    \n",
       "  [43] Secondary Education     Secondary Education     Post-graduate Education\n",
       "  [46] No formal education     Post-graduate Education Secondary Education    \n",
       "  [49] Primary Education       College Education       Primary Education      \n",
       "  [52] Primary Education       College Education       Primary Education      \n",
       "  [55] Secondary Education     Secondary Education     Primary Education      \n",
       "  [58] Secondary Education     Primary Education       Primary Education      \n",
       "  [61] Secondary Education     Secondary Education     College Education      \n",
       "  [64] College Education       No formal education     College Education      \n",
       "  [67] Secondary Education     Secondary Education     Primary Education      \n",
       "  [70] Secondary Education     Post-graduate Education Post-graduate Education\n",
       "  [73] Post-graduate Education College Education       Secondary Education    \n",
       "  [76] No formal education     Secondary Education     College Education      \n",
       "  [79] Secondary Education     Secondary Education     Primary Education      \n",
       "  [82] Primary Education       College Education       College Education      \n",
       "  [85] No formal education     Primary Education       No formal education    \n",
       "  [88] Primary Education       Secondary Education     College Education      \n",
       "  [91] Primary Education       Primary Education       Secondary Education    \n",
       "  [94] Secondary Education     Primary Education       Primary Education      \n",
       "  [97] No formal education     Post-graduate Education Secondary Education    \n",
       " [100] College Education       Post-graduate Education Primary Education      \n",
       " [103] College Education       College Education       Secondary Education    \n",
       " [106] Primary Education       Post-graduate Education No formal education    \n",
       " [109] Secondary Education     Post-graduate Education College Education      \n",
       " [112] Primary Education       Secondary Education     Primary Education      \n",
       " [115] Post-graduate Education Secondary Education     Primary Education      \n",
       " [118] Secondary Education     Secondary Education     College Education      \n",
       " [121] No formal education     Primary Education       No formal education    \n",
       " [124] No formal education     Primary Education       College Education      \n",
       " [127] Secondary Education     Secondary Education     Primary Education      \n",
       " [130] College Education       Secondary Education     Secondary Education    \n",
       " [133] No formal education     Secondary Education     Post-graduate Education\n",
       " [136] No formal education     Post-graduate Education Post-graduate Education\n",
       " [139] Secondary Education     Post-graduate Education Secondary Education    \n",
       " [142] College Education       Post-graduate Education No formal education    \n",
       " [145] Secondary Education     Secondary Education     Secondary Education    \n",
       " [148] Post-graduate Education Post-graduate Education Secondary Education    \n",
       " [151] Secondary Education     Post-graduate Education College Education      \n",
       " [154] Post-graduate Education Post-graduate Education Post-graduate Education\n",
       " [157] Post-graduate Education No formal education     College Education      \n",
       " [160] College Education       Primary Education       College Education      \n",
       " [163] Post-graduate Education Primary Education       Post-graduate Education\n",
       " [166] Secondary Education     Primary Education       Post-graduate Education\n",
       " [169] No formal education     No formal education     College Education      \n",
       " [172] Primary Education       Post-graduate Education Primary Education      \n",
       " [175] Post-graduate Education Primary Education       Post-graduate Education\n",
       " [178] Primary Education       Secondary Education     No formal education    \n",
       " [181] College Education       Primary Education       Secondary Education    \n",
       " [184] Secondary Education     Secondary Education     Secondary Education    \n",
       " [187] Primary Education       Secondary Education     Post-graduate Education\n",
       " [190] Secondary Education     Primary Education       College Education      \n",
       " [193] No formal education     College Education       College Education      \n",
       " [196] Post-graduate Education Secondary Education     Primary Education      \n",
       " [199] College Education       College Education       Secondary Education    \n",
       " [202] No formal education     No formal education     Primary Education      \n",
       " [205] Primary Education       College Education       Secondary Education    \n",
       " [208] Primary Education       College Education       Primary Education      \n",
       " [211] Post-graduate Education Secondary Education     College Education      \n",
       " [214] No formal education     Primary Education       Primary Education      \n",
       " [217] Secondary Education     College Education       Post-graduate Education\n",
       " [220] Primary Education       College Education       College Education      \n",
       " [223] Primary Education       Post-graduate Education No formal education    \n",
       " [226] Secondary Education     Primary Education       College Education      \n",
       " [229] Secondary Education     Primary Education       No formal education    \n",
       " [232] Primary Education       Secondary Education     College Education      \n",
       " [235] Secondary Education     No formal education     College Education      \n",
       " [238] College Education       Primary Education       No formal education    \n",
       " [241] Primary Education       Secondary Education     College Education      \n",
       " [244] Primary Education       No formal education     No formal education    \n",
       " [247] Primary Education       Primary Education       Post-graduate Education\n",
       " [250] Secondary Education     Primary Education       Primary Education      \n",
       " [253] No formal education     Primary Education       Post-graduate Education\n",
       " [256] Secondary Education     No formal education     College Education      \n",
       " [259] Post-graduate Education No formal education     College Education      \n",
       " [262] Secondary Education     Secondary Education     Secondary Education    \n",
       " [265] Secondary Education     Secondary Education     No formal education    \n",
       " [268] Primary Education       No formal education     Primary Education      \n",
       " [271] Primary Education       Post-graduate Education College Education      \n",
       " [274] Secondary Education     College Education       Primary Education      \n",
       " [277] No formal education     Primary Education       Secondary Education    \n",
       " [280] Primary Education       Post-graduate Education Secondary Education    \n",
       " [283] Secondary Education     Post-graduate Education Post-graduate Education\n",
       " [286] Secondary Education     College Education       Primary Education      \n",
       " [289] Secondary Education     Post-graduate Education College Education      \n",
       " [292] Secondary Education     College Education       No formal education    \n",
       " [295] Primary Education       Secondary Education     No formal education    \n",
       " [298] Primary Education       College Education       College Education      \n",
       " [301] Secondary Education     Secondary Education     No formal education    \n",
       " [304] Secondary Education     No formal education     Secondary Education    \n",
       " [307] No formal education     Primary Education       College Education      \n",
       " [310] Secondary Education     Primary Education       Secondary Education    \n",
       " [313] Primary Education       Primary Education       Primary Education      \n",
       " [316] Secondary Education     No formal education     College Education      \n",
       " [319] No formal education     No formal education     Primary Education      \n",
       " [322] Secondary Education     No formal education     Primary Education      \n",
       " [325] Primary Education       Primary Education       No formal education    \n",
       " [328] Secondary Education     No formal education     Secondary Education    \n",
       " [331] College Education       No formal education     No formal education    \n",
       " [334] Post-graduate Education Post-graduate Education College Education      \n",
       " [337] No formal education     College Education       Primary Education      \n",
       " [340] Post-graduate Education No formal education     Post-graduate Education\n",
       " [343] Secondary Education     Primary Education       Primary Education      \n",
       " [346] No formal education     No formal education     College Education      \n",
       " [349] Primary Education       Post-graduate Education Secondary Education    \n",
       " [352] No formal education     Primary Education       Primary Education      \n",
       " [355] Primary Education       Secondary Education     College Education      \n",
       " [358] No formal education     College Education       Primary Education      \n",
       " [361] No formal education     Secondary Education     No formal education    \n",
       " [364] College Education       Secondary Education     Secondary Education    \n",
       " [367] Post-graduate Education Secondary Education     Primary Education      \n",
       " [370] College Education       Primary Education       Secondary Education    \n",
       " [373] Secondary Education     Secondary Education     Post-graduate Education\n",
       " [376] College Education       College Education       Primary Education      \n",
       " [379] Primary Education       No formal education     College Education      \n",
       " [382] Primary Education       Post-graduate Education Post-graduate Education\n",
       " [385] Primary Education       Post-graduate Education Secondary Education    \n",
       " [388] Post-graduate Education Primary Education       Primary Education      \n",
       " [391] Primary Education       College Education       Secondary Education    \n",
       " [394] Secondary Education     Post-graduate Education Primary Education      \n",
       " [397] Secondary Education     Secondary Education     Secondary Education    \n",
       " [400] Secondary Education     Secondary Education     Primary Education      \n",
       " [403] Secondary Education     Post-graduate Education No formal education    \n",
       " [406] Primary Education       Primary Education       College Education      \n",
       " [409] Secondary Education     Primary Education       Secondary Education    \n",
       " [412] College Education       College Education       No formal education    \n",
       " [415] No formal education     No formal education     Primary Education      \n",
       " [418] Secondary Education     Primary Education       Secondary Education    \n",
       " [421] Secondary Education     Secondary Education     Primary Education      \n",
       " [424] Post-graduate Education Secondary Education     Secondary Education    \n",
       " [427] Post-graduate Education College Education       College Education      \n",
       " [430] College Education       College Education       Post-graduate Education\n",
       " [433] Primary Education       Secondary Education     Secondary Education    \n",
       " [436] Primary Education       College Education       Secondary Education    \n",
       " [439] College Education       Secondary Education     No formal education    \n",
       " [442] Primary Education       Primary Education       Secondary Education    \n",
       " [445] College Education       College Education       Post-graduate Education\n",
       " [448] College Education       Primary Education       No formal education    \n",
       " [451] College Education       Primary Education       College Education      \n",
       " [454] Secondary Education     Post-graduate Education Secondary Education    \n",
       " [457] Secondary Education     College Education       No formal education    \n",
       " [460] College Education       Secondary Education     Primary Education      \n",
       " [463] Post-graduate Education College Education       No formal education    \n",
       " [466] Post-graduate Education Primary Education       College Education      \n",
       " [469] Primary Education       No formal education     College Education      \n",
       " [472] Post-graduate Education Primary Education       Post-graduate Education\n",
       " [475] Primary Education       Post-graduate Education Primary Education      \n",
       " [478] College Education       Secondary Education     Post-graduate Education\n",
       " [481] Primary Education       Post-graduate Education Secondary Education    \n",
       " [484] Post-graduate Education Secondary Education     Primary Education      \n",
       " [487] Secondary Education     Secondary Education     Post-graduate Education\n",
       " [490] College Education       Primary Education       Post-graduate Education\n",
       " [493] Primary Education       Secondary Education     Post-graduate Education\n",
       " [496] College Education       College Education       Primary Education      \n",
       " [499] Secondary Education     Primary Education       Post-graduate Education\n",
       " [502] Post-graduate Education No formal education     Secondary Education    \n",
       " [505] Secondary Education     Secondary Education     Primary Education      \n",
       " [508] Secondary Education     Secondary Education     Secondary Education    \n",
       " [511] College Education       Primary Education       No formal education    \n",
       " [514] College Education       College Education       College Education      \n",
       " [517] Primary Education       College Education       Primary Education      \n",
       " [520] Secondary Education     No formal education     No formal education    \n",
       " [523] Primary Education       Post-graduate Education Secondary Education    \n",
       " [526] Post-graduate Education Secondary Education     College Education      \n",
       " [529] Post-graduate Education Secondary Education     College Education      \n",
       " [532] Secondary Education     Secondary Education     Post-graduate Education\n",
       " [535] Secondary Education     College Education       No formal education    \n",
       " [538] Secondary Education     College Education       Primary Education      \n",
       " [541] Primary Education       Secondary Education     Primary Education      \n",
       " [544] Secondary Education     Post-graduate Education Primary Education      \n",
       " [547] No formal education     No formal education     College Education      \n",
       " [550] Secondary Education     Secondary Education     Primary Education      \n",
       " [553] College Education       Secondary Education     College Education      \n",
       " [556] No formal education     Secondary Education     College Education      \n",
       " [559] Secondary Education     Primary Education       No formal education    \n",
       " [562] College Education       Primary Education       Primary Education      \n",
       " [565] College Education       No formal education     Primary Education      \n",
       " [568] Primary Education       Post-graduate Education College Education      \n",
       " [571] Secondary Education     College Education       Post-graduate Education\n",
       " [574] Primary Education       Primary Education       Secondary Education    \n",
       " [577] Primary Education       College Education       No formal education    \n",
       " [580] Post-graduate Education Secondary Education     Primary Education      \n",
       " [583] No formal education     Primary Education       College Education      \n",
       " [586] Primary Education       Primary Education       Primary Education      \n",
       " [589] Primary Education       Primary Education       Primary Education      \n",
       " [592] Primary Education       No formal education     Primary Education      \n",
       " [595] Secondary Education     No formal education     Primary Education      \n",
       " [598] Primary Education       Secondary Education     No formal education    \n",
       " [601] No formal education     Primary Education       No formal education    \n",
       " [604] Primary Education       Secondary Education     Secondary Education    \n",
       " [607] Secondary Education     Primary Education       Secondary Education    \n",
       " [610] Primary Education       Post-graduate Education Primary Education      \n",
       " [613] College Education       Post-graduate Education Secondary Education    \n",
       " [616] College Education       No formal education     College Education      \n",
       " [619] Primary Education       Post-graduate Education Secondary Education    \n",
       " [622] Secondary Education     Post-graduate Education No formal education    \n",
       " [625] No formal education     Secondary Education     Primary Education      \n",
       " [628] Primary Education       Primary Education       Post-graduate Education\n",
       " [631] Secondary Education     Secondary Education     College Education      \n",
       " [634] Post-graduate Education No formal education     Secondary Education    \n",
       " [637] Primary Education       Secondary Education     Primary Education      \n",
       " [640] Post-graduate Education College Education       No formal education    \n",
       " [643] Secondary Education     Secondary Education     Post-graduate Education\n",
       " [646] Secondary Education     Primary Education       No formal education    \n",
       " [649] Primary Education       Secondary Education     Post-graduate Education\n",
       " [652] No formal education     Primary Education       No formal education    \n",
       " [655] College Education       Secondary Education     Secondary Education    \n",
       " [658] Primary Education       Primary Education       Post-graduate Education\n",
       " [661] No formal education     College Education       Secondary Education    \n",
       " [664] College Education       Post-graduate Education Secondary Education    \n",
       " [667] No formal education     No formal education     Secondary Education    \n",
       " [670] Secondary Education     No formal education     Primary Education      \n",
       " [673] Post-graduate Education Secondary Education     Primary Education      \n",
       " [676] Primary Education       Secondary Education     Secondary Education    \n",
       " [679] Primary Education       Post-graduate Education Secondary Education    \n",
       " [682] Post-graduate Education Secondary Education     Primary Education      \n",
       " [685] Primary Education       No formal education     Primary Education      \n",
       " [688] Primary Education       College Education       Primary Education      \n",
       " [691] Primary Education       Secondary Education     No formal education    \n",
       " [694] Secondary Education     No formal education     Primary Education      \n",
       " [697] College Education       Secondary Education     Primary Education      \n",
       " [700] Primary Education       Secondary Education     Secondary Education    \n",
       " [703] Primary Education       No formal education     College Education      \n",
       " [706] College Education       Primary Education       Secondary Education    \n",
       " [709] Primary Education       College Education       Primary Education      \n",
       " [712] Primary Education       Primary Education       Secondary Education    \n",
       " [715] College Education       No formal education     College Education      \n",
       " [718] Post-graduate Education Primary Education       College Education      \n",
       " [721] College Education       College Education       Primary Education      \n",
       " [724] Post-graduate Education Secondary Education     Post-graduate Education\n",
       " [727] Secondary Education     Primary Education       Post-graduate Education\n",
       " [730] No formal education     Post-graduate Education Primary Education      \n",
       " [733] Secondary Education     Post-graduate Education Primary Education      \n",
       " [736] Secondary Education     College Education       Primary Education      \n",
       " [739] College Education       College Education       Secondary Education    \n",
       " [742] College Education       No formal education     Post-graduate Education\n",
       " [745] Secondary Education     Secondary Education     College Education      \n",
       " [748] College Education       Primary Education       Primary Education      \n",
       " [751] Primary Education       No formal education     Secondary Education    \n",
       " [754] Primary Education       Primary Education       Secondary Education    \n",
       " [757] Secondary Education     Primary Education       Post-graduate Education\n",
       " [760] No formal education     Primary Education       Post-graduate Education\n",
       " [763] College Education       Post-graduate Education Primary Education      \n",
       " [766] College Education       Secondary Education     Secondary Education    \n",
       " [769] Post-graduate Education College Education       Primary Education      \n",
       " [772] Post-graduate Education Primary Education       Secondary Education    \n",
       " [775] College Education       Primary Education       Secondary Education    \n",
       " [778] College Education       Primary Education       Secondary Education    \n",
       " [781] Primary Education       Secondary Education     Primary Education      \n",
       " [784] Primary Education       College Education       Post-graduate Education\n",
       " [787] Post-graduate Education Primary Education       Post-graduate Education\n",
       " [790] Primary Education       Post-graduate Education Secondary Education    \n",
       " [793] Secondary Education     Secondary Education     No formal education    \n",
       " [796] Primary Education       Primary Education       Post-graduate Education\n",
       " [799] Primary Education       Secondary Education     College Education      \n",
       " [802] College Education       No formal education     No formal education    \n",
       " [805] Secondary Education     Secondary Education     College Education      \n",
       " [808] Primary Education       Post-graduate Education Secondary Education    \n",
       " [811] Secondary Education     College Education       Post-graduate Education\n",
       " [814] Primary Education       College Education       Primary Education      \n",
       " [817] College Education       College Education       Primary Education      \n",
       " [820] Secondary Education     College Education       Primary Education      \n",
       " [823] Secondary Education     Post-graduate Education No formal education    \n",
       " [826] No formal education     Secondary Education     No formal education    \n",
       " [829] Secondary Education     College Education       Primary Education      \n",
       " [832] College Education       Primary Education       No formal education    \n",
       " [835] Primary Education       Post-graduate Education Post-graduate Education\n",
       " [838] Secondary Education     Secondary Education     Secondary Education    \n",
       " [841] Primary Education       College Education       Primary Education      \n",
       " [844] No formal education     Post-graduate Education No formal education    \n",
       " [847] Primary Education       Primary Education       Post-graduate Education\n",
       " [850] Secondary Education     Secondary Education     Secondary Education    \n",
       " [853] Secondary Education     College Education       Secondary Education    \n",
       " [856] Post-graduate Education College Education       No formal education    \n",
       " [859] Primary Education       Primary Education       College Education      \n",
       " [862] Primary Education       Primary Education       Primary Education      \n",
       " [865] Primary Education       Primary Education       Post-graduate Education\n",
       " [868] No formal education     Primary Education       College Education      \n",
       " [871] Post-graduate Education College Education       Primary Education      \n",
       " [874] Secondary Education     Secondary Education     Post-graduate Education\n",
       " [877] No formal education     No formal education     Secondary Education    \n",
       " [880] Primary Education       Primary Education       No formal education    \n",
       " [883] Primary Education       Secondary Education     Primary Education      \n",
       " [886] Primary Education       No formal education     Secondary Education    \n",
       " [889] Secondary Education     Primary Education       Post-graduate Education\n",
       " [892] College Education       Secondary Education     Secondary Education    \n",
       " [895] Primary Education       Primary Education       College Education      \n",
       " [898] Primary Education       Secondary Education     Secondary Education    \n",
       " [901] No formal education     Primary Education       Post-graduate Education\n",
       " [904] No formal education     Primary Education       No formal education    \n",
       " [907] Secondary Education     Primary Education       No formal education    \n",
       " [910] No formal education     Post-graduate Education Post-graduate Education\n",
       " [913] Primary Education       College Education       Secondary Education    \n",
       " [916] Primary Education       No formal education     No formal education    \n",
       " [919] Primary Education       College Education       No formal education    \n",
       " [922] Post-graduate Education Primary Education       Primary Education      \n",
       " [925] College Education       Primary Education       No formal education    \n",
       " [928] Post-graduate Education Primary Education       Secondary Education    \n",
       " [931] Post-graduate Education Secondary Education     Secondary Education    \n",
       " [934] Primary Education       College Education       No formal education    \n",
       " [937] College Education       Secondary Education     College Education      \n",
       " [940] College Education       College Education       Secondary Education    \n",
       " [943] Secondary Education     Secondary Education     Secondary Education    \n",
       " [946] College Education       College Education       College Education      \n",
       " [949] Secondary Education     Primary Education       Primary Education      \n",
       " [952] Secondary Education     Primary Education       No formal education    \n",
       " [955] No formal education     Primary Education       Secondary Education    \n",
       " [958] Secondary Education     Primary Education       College Education      \n",
       " [961] Secondary Education     Secondary Education     Post-graduate Education\n",
       " [964] Secondary Education     Secondary Education     College Education      \n",
       " [967] Post-graduate Education College Education       Primary Education      \n",
       " [970] Primary Education       Secondary Education     Secondary Education    \n",
       " [973] No formal education     Post-graduate Education Post-graduate Education\n",
       " [976] No formal education     Primary Education       Primary Education      \n",
       " [979] Primary Education       No formal education     College Education      \n",
       " [982] College Education       Primary Education       Primary Education      \n",
       " [985] Primary Education       Secondary Education     Post-graduate Education\n",
       " [988] Post-graduate Education Secondary Education     Primary Education      \n",
       " [991] Primary Education       Primary Education       Primary Education      \n",
       " [994] College Education       College Education       College Education      \n",
       " [997] Primary Education       No formal education     Post-graduate Education\n",
       "[1000] No formal education    \n",
       "5 Levels: No formal education Primary Education ... Post-graduate Education"
      ]
     },
     "metadata": {},
     "output_type": "display_data"
    }
   ],
   "source": [
    "educ_FC"
   ]
  },
  {
   "cell_type": "code",
   "execution_count": 24,
   "id": "e54d627c",
   "metadata": {},
   "outputs": [],
   "source": [
    "educ_RELE <- relevel(educ_FC, ref = \"Primary Education\")"
   ]
  },
  {
   "cell_type": "markdown",
   "id": "77546be1",
   "metadata": {},
   "source": [
    "relevel \"Primary Education\" as baseline category "
   ]
  },
  {
   "cell_type": "code",
   "execution_count": 25,
   "id": "3837b763",
   "metadata": {},
   "outputs": [
    {
     "data": {
      "text/plain": [
       "   [1] College Education       Secondary Education     No formal education    \n",
       "   [4] Secondary Education     Primary Education       Secondary Education    \n",
       "   [7] No formal education     No formal education     Primary Education      \n",
       "  [10] College Education       No formal education     Primary Education      \n",
       "  [13] Primary Education       Secondary Education     Secondary Education    \n",
       "  [16] No formal education     College Education       Secondary Education    \n",
       "  [19] Secondary Education     College Education       College Education      \n",
       "  [22] Secondary Education     Secondary Education     Primary Education      \n",
       "  [25] Primary Education       Post-graduate Education Secondary Education    \n",
       "  [28] Post-graduate Education Secondary Education     College Education      \n",
       "  [31] Secondary Education     Secondary Education     Primary Education      \n",
       "  [34] Primary Education       Primary Education       No formal education    \n",
       "  [37] College Education       Secondary Education     College Education      \n",
       "  [40] College Education       Secondary Education     Secondary Education    \n",
       "  [43] Secondary Education     Secondary Education     Post-graduate Education\n",
       "  [46] No formal education     Post-graduate Education Secondary Education    \n",
       "  [49] Primary Education       College Education       Primary Education      \n",
       "  [52] Primary Education       College Education       Primary Education      \n",
       "  [55] Secondary Education     Secondary Education     Primary Education      \n",
       "  [58] Secondary Education     Primary Education       Primary Education      \n",
       "  [61] Secondary Education     Secondary Education     College Education      \n",
       "  [64] College Education       No formal education     College Education      \n",
       "  [67] Secondary Education     Secondary Education     Primary Education      \n",
       "  [70] Secondary Education     Post-graduate Education Post-graduate Education\n",
       "  [73] Post-graduate Education College Education       Secondary Education    \n",
       "  [76] No formal education     Secondary Education     College Education      \n",
       "  [79] Secondary Education     Secondary Education     Primary Education      \n",
       "  [82] Primary Education       College Education       College Education      \n",
       "  [85] No formal education     Primary Education       No formal education    \n",
       "  [88] Primary Education       Secondary Education     College Education      \n",
       "  [91] Primary Education       Primary Education       Secondary Education    \n",
       "  [94] Secondary Education     Primary Education       Primary Education      \n",
       "  [97] No formal education     Post-graduate Education Secondary Education    \n",
       " [100] College Education       Post-graduate Education Primary Education      \n",
       " [103] College Education       College Education       Secondary Education    \n",
       " [106] Primary Education       Post-graduate Education No formal education    \n",
       " [109] Secondary Education     Post-graduate Education College Education      \n",
       " [112] Primary Education       Secondary Education     Primary Education      \n",
       " [115] Post-graduate Education Secondary Education     Primary Education      \n",
       " [118] Secondary Education     Secondary Education     College Education      \n",
       " [121] No formal education     Primary Education       No formal education    \n",
       " [124] No formal education     Primary Education       College Education      \n",
       " [127] Secondary Education     Secondary Education     Primary Education      \n",
       " [130] College Education       Secondary Education     Secondary Education    \n",
       " [133] No formal education     Secondary Education     Post-graduate Education\n",
       " [136] No formal education     Post-graduate Education Post-graduate Education\n",
       " [139] Secondary Education     Post-graduate Education Secondary Education    \n",
       " [142] College Education       Post-graduate Education No formal education    \n",
       " [145] Secondary Education     Secondary Education     Secondary Education    \n",
       " [148] Post-graduate Education Post-graduate Education Secondary Education    \n",
       " [151] Secondary Education     Post-graduate Education College Education      \n",
       " [154] Post-graduate Education Post-graduate Education Post-graduate Education\n",
       " [157] Post-graduate Education No formal education     College Education      \n",
       " [160] College Education       Primary Education       College Education      \n",
       " [163] Post-graduate Education Primary Education       Post-graduate Education\n",
       " [166] Secondary Education     Primary Education       Post-graduate Education\n",
       " [169] No formal education     No formal education     College Education      \n",
       " [172] Primary Education       Post-graduate Education Primary Education      \n",
       " [175] Post-graduate Education Primary Education       Post-graduate Education\n",
       " [178] Primary Education       Secondary Education     No formal education    \n",
       " [181] College Education       Primary Education       Secondary Education    \n",
       " [184] Secondary Education     Secondary Education     Secondary Education    \n",
       " [187] Primary Education       Secondary Education     Post-graduate Education\n",
       " [190] Secondary Education     Primary Education       College Education      \n",
       " [193] No formal education     College Education       College Education      \n",
       " [196] Post-graduate Education Secondary Education     Primary Education      \n",
       " [199] College Education       College Education       Secondary Education    \n",
       " [202] No formal education     No formal education     Primary Education      \n",
       " [205] Primary Education       College Education       Secondary Education    \n",
       " [208] Primary Education       College Education       Primary Education      \n",
       " [211] Post-graduate Education Secondary Education     College Education      \n",
       " [214] No formal education     Primary Education       Primary Education      \n",
       " [217] Secondary Education     College Education       Post-graduate Education\n",
       " [220] Primary Education       College Education       College Education      \n",
       " [223] Primary Education       Post-graduate Education No formal education    \n",
       " [226] Secondary Education     Primary Education       College Education      \n",
       " [229] Secondary Education     Primary Education       No formal education    \n",
       " [232] Primary Education       Secondary Education     College Education      \n",
       " [235] Secondary Education     No formal education     College Education      \n",
       " [238] College Education       Primary Education       No formal education    \n",
       " [241] Primary Education       Secondary Education     College Education      \n",
       " [244] Primary Education       No formal education     No formal education    \n",
       " [247] Primary Education       Primary Education       Post-graduate Education\n",
       " [250] Secondary Education     Primary Education       Primary Education      \n",
       " [253] No formal education     Primary Education       Post-graduate Education\n",
       " [256] Secondary Education     No formal education     College Education      \n",
       " [259] Post-graduate Education No formal education     College Education      \n",
       " [262] Secondary Education     Secondary Education     Secondary Education    \n",
       " [265] Secondary Education     Secondary Education     No formal education    \n",
       " [268] Primary Education       No formal education     Primary Education      \n",
       " [271] Primary Education       Post-graduate Education College Education      \n",
       " [274] Secondary Education     College Education       Primary Education      \n",
       " [277] No formal education     Primary Education       Secondary Education    \n",
       " [280] Primary Education       Post-graduate Education Secondary Education    \n",
       " [283] Secondary Education     Post-graduate Education Post-graduate Education\n",
       " [286] Secondary Education     College Education       Primary Education      \n",
       " [289] Secondary Education     Post-graduate Education College Education      \n",
       " [292] Secondary Education     College Education       No formal education    \n",
       " [295] Primary Education       Secondary Education     No formal education    \n",
       " [298] Primary Education       College Education       College Education      \n",
       " [301] Secondary Education     Secondary Education     No formal education    \n",
       " [304] Secondary Education     No formal education     Secondary Education    \n",
       " [307] No formal education     Primary Education       College Education      \n",
       " [310] Secondary Education     Primary Education       Secondary Education    \n",
       " [313] Primary Education       Primary Education       Primary Education      \n",
       " [316] Secondary Education     No formal education     College Education      \n",
       " [319] No formal education     No formal education     Primary Education      \n",
       " [322] Secondary Education     No formal education     Primary Education      \n",
       " [325] Primary Education       Primary Education       No formal education    \n",
       " [328] Secondary Education     No formal education     Secondary Education    \n",
       " [331] College Education       No formal education     No formal education    \n",
       " [334] Post-graduate Education Post-graduate Education College Education      \n",
       " [337] No formal education     College Education       Primary Education      \n",
       " [340] Post-graduate Education No formal education     Post-graduate Education\n",
       " [343] Secondary Education     Primary Education       Primary Education      \n",
       " [346] No formal education     No formal education     College Education      \n",
       " [349] Primary Education       Post-graduate Education Secondary Education    \n",
       " [352] No formal education     Primary Education       Primary Education      \n",
       " [355] Primary Education       Secondary Education     College Education      \n",
       " [358] No formal education     College Education       Primary Education      \n",
       " [361] No formal education     Secondary Education     No formal education    \n",
       " [364] College Education       Secondary Education     Secondary Education    \n",
       " [367] Post-graduate Education Secondary Education     Primary Education      \n",
       " [370] College Education       Primary Education       Secondary Education    \n",
       " [373] Secondary Education     Secondary Education     Post-graduate Education\n",
       " [376] College Education       College Education       Primary Education      \n",
       " [379] Primary Education       No formal education     College Education      \n",
       " [382] Primary Education       Post-graduate Education Post-graduate Education\n",
       " [385] Primary Education       Post-graduate Education Secondary Education    \n",
       " [388] Post-graduate Education Primary Education       Primary Education      \n",
       " [391] Primary Education       College Education       Secondary Education    \n",
       " [394] Secondary Education     Post-graduate Education Primary Education      \n",
       " [397] Secondary Education     Secondary Education     Secondary Education    \n",
       " [400] Secondary Education     Secondary Education     Primary Education      \n",
       " [403] Secondary Education     Post-graduate Education No formal education    \n",
       " [406] Primary Education       Primary Education       College Education      \n",
       " [409] Secondary Education     Primary Education       Secondary Education    \n",
       " [412] College Education       College Education       No formal education    \n",
       " [415] No formal education     No formal education     Primary Education      \n",
       " [418] Secondary Education     Primary Education       Secondary Education    \n",
       " [421] Secondary Education     Secondary Education     Primary Education      \n",
       " [424] Post-graduate Education Secondary Education     Secondary Education    \n",
       " [427] Post-graduate Education College Education       College Education      \n",
       " [430] College Education       College Education       Post-graduate Education\n",
       " [433] Primary Education       Secondary Education     Secondary Education    \n",
       " [436] Primary Education       College Education       Secondary Education    \n",
       " [439] College Education       Secondary Education     No formal education    \n",
       " [442] Primary Education       Primary Education       Secondary Education    \n",
       " [445] College Education       College Education       Post-graduate Education\n",
       " [448] College Education       Primary Education       No formal education    \n",
       " [451] College Education       Primary Education       College Education      \n",
       " [454] Secondary Education     Post-graduate Education Secondary Education    \n",
       " [457] Secondary Education     College Education       No formal education    \n",
       " [460] College Education       Secondary Education     Primary Education      \n",
       " [463] Post-graduate Education College Education       No formal education    \n",
       " [466] Post-graduate Education Primary Education       College Education      \n",
       " [469] Primary Education       No formal education     College Education      \n",
       " [472] Post-graduate Education Primary Education       Post-graduate Education\n",
       " [475] Primary Education       Post-graduate Education Primary Education      \n",
       " [478] College Education       Secondary Education     Post-graduate Education\n",
       " [481] Primary Education       Post-graduate Education Secondary Education    \n",
       " [484] Post-graduate Education Secondary Education     Primary Education      \n",
       " [487] Secondary Education     Secondary Education     Post-graduate Education\n",
       " [490] College Education       Primary Education       Post-graduate Education\n",
       " [493] Primary Education       Secondary Education     Post-graduate Education\n",
       " [496] College Education       College Education       Primary Education      \n",
       " [499] Secondary Education     Primary Education       Post-graduate Education\n",
       " [502] Post-graduate Education No formal education     Secondary Education    \n",
       " [505] Secondary Education     Secondary Education     Primary Education      \n",
       " [508] Secondary Education     Secondary Education     Secondary Education    \n",
       " [511] College Education       Primary Education       No formal education    \n",
       " [514] College Education       College Education       College Education      \n",
       " [517] Primary Education       College Education       Primary Education      \n",
       " [520] Secondary Education     No formal education     No formal education    \n",
       " [523] Primary Education       Post-graduate Education Secondary Education    \n",
       " [526] Post-graduate Education Secondary Education     College Education      \n",
       " [529] Post-graduate Education Secondary Education     College Education      \n",
       " [532] Secondary Education     Secondary Education     Post-graduate Education\n",
       " [535] Secondary Education     College Education       No formal education    \n",
       " [538] Secondary Education     College Education       Primary Education      \n",
       " [541] Primary Education       Secondary Education     Primary Education      \n",
       " [544] Secondary Education     Post-graduate Education Primary Education      \n",
       " [547] No formal education     No formal education     College Education      \n",
       " [550] Secondary Education     Secondary Education     Primary Education      \n",
       " [553] College Education       Secondary Education     College Education      \n",
       " [556] No formal education     Secondary Education     College Education      \n",
       " [559] Secondary Education     Primary Education       No formal education    \n",
       " [562] College Education       Primary Education       Primary Education      \n",
       " [565] College Education       No formal education     Primary Education      \n",
       " [568] Primary Education       Post-graduate Education College Education      \n",
       " [571] Secondary Education     College Education       Post-graduate Education\n",
       " [574] Primary Education       Primary Education       Secondary Education    \n",
       " [577] Primary Education       College Education       No formal education    \n",
       " [580] Post-graduate Education Secondary Education     Primary Education      \n",
       " [583] No formal education     Primary Education       College Education      \n",
       " [586] Primary Education       Primary Education       Primary Education      \n",
       " [589] Primary Education       Primary Education       Primary Education      \n",
       " [592] Primary Education       No formal education     Primary Education      \n",
       " [595] Secondary Education     No formal education     Primary Education      \n",
       " [598] Primary Education       Secondary Education     No formal education    \n",
       " [601] No formal education     Primary Education       No formal education    \n",
       " [604] Primary Education       Secondary Education     Secondary Education    \n",
       " [607] Secondary Education     Primary Education       Secondary Education    \n",
       " [610] Primary Education       Post-graduate Education Primary Education      \n",
       " [613] College Education       Post-graduate Education Secondary Education    \n",
       " [616] College Education       No formal education     College Education      \n",
       " [619] Primary Education       Post-graduate Education Secondary Education    \n",
       " [622] Secondary Education     Post-graduate Education No formal education    \n",
       " [625] No formal education     Secondary Education     Primary Education      \n",
       " [628] Primary Education       Primary Education       Post-graduate Education\n",
       " [631] Secondary Education     Secondary Education     College Education      \n",
       " [634] Post-graduate Education No formal education     Secondary Education    \n",
       " [637] Primary Education       Secondary Education     Primary Education      \n",
       " [640] Post-graduate Education College Education       No formal education    \n",
       " [643] Secondary Education     Secondary Education     Post-graduate Education\n",
       " [646] Secondary Education     Primary Education       No formal education    \n",
       " [649] Primary Education       Secondary Education     Post-graduate Education\n",
       " [652] No formal education     Primary Education       No formal education    \n",
       " [655] College Education       Secondary Education     Secondary Education    \n",
       " [658] Primary Education       Primary Education       Post-graduate Education\n",
       " [661] No formal education     College Education       Secondary Education    \n",
       " [664] College Education       Post-graduate Education Secondary Education    \n",
       " [667] No formal education     No formal education     Secondary Education    \n",
       " [670] Secondary Education     No formal education     Primary Education      \n",
       " [673] Post-graduate Education Secondary Education     Primary Education      \n",
       " [676] Primary Education       Secondary Education     Secondary Education    \n",
       " [679] Primary Education       Post-graduate Education Secondary Education    \n",
       " [682] Post-graduate Education Secondary Education     Primary Education      \n",
       " [685] Primary Education       No formal education     Primary Education      \n",
       " [688] Primary Education       College Education       Primary Education      \n",
       " [691] Primary Education       Secondary Education     No formal education    \n",
       " [694] Secondary Education     No formal education     Primary Education      \n",
       " [697] College Education       Secondary Education     Primary Education      \n",
       " [700] Primary Education       Secondary Education     Secondary Education    \n",
       " [703] Primary Education       No formal education     College Education      \n",
       " [706] College Education       Primary Education       Secondary Education    \n",
       " [709] Primary Education       College Education       Primary Education      \n",
       " [712] Primary Education       Primary Education       Secondary Education    \n",
       " [715] College Education       No formal education     College Education      \n",
       " [718] Post-graduate Education Primary Education       College Education      \n",
       " [721] College Education       College Education       Primary Education      \n",
       " [724] Post-graduate Education Secondary Education     Post-graduate Education\n",
       " [727] Secondary Education     Primary Education       Post-graduate Education\n",
       " [730] No formal education     Post-graduate Education Primary Education      \n",
       " [733] Secondary Education     Post-graduate Education Primary Education      \n",
       " [736] Secondary Education     College Education       Primary Education      \n",
       " [739] College Education       College Education       Secondary Education    \n",
       " [742] College Education       No formal education     Post-graduate Education\n",
       " [745] Secondary Education     Secondary Education     College Education      \n",
       " [748] College Education       Primary Education       Primary Education      \n",
       " [751] Primary Education       No formal education     Secondary Education    \n",
       " [754] Primary Education       Primary Education       Secondary Education    \n",
       " [757] Secondary Education     Primary Education       Post-graduate Education\n",
       " [760] No formal education     Primary Education       Post-graduate Education\n",
       " [763] College Education       Post-graduate Education Primary Education      \n",
       " [766] College Education       Secondary Education     Secondary Education    \n",
       " [769] Post-graduate Education College Education       Primary Education      \n",
       " [772] Post-graduate Education Primary Education       Secondary Education    \n",
       " [775] College Education       Primary Education       Secondary Education    \n",
       " [778] College Education       Primary Education       Secondary Education    \n",
       " [781] Primary Education       Secondary Education     Primary Education      \n",
       " [784] Primary Education       College Education       Post-graduate Education\n",
       " [787] Post-graduate Education Primary Education       Post-graduate Education\n",
       " [790] Primary Education       Post-graduate Education Secondary Education    \n",
       " [793] Secondary Education     Secondary Education     No formal education    \n",
       " [796] Primary Education       Primary Education       Post-graduate Education\n",
       " [799] Primary Education       Secondary Education     College Education      \n",
       " [802] College Education       No formal education     No formal education    \n",
       " [805] Secondary Education     Secondary Education     College Education      \n",
       " [808] Primary Education       Post-graduate Education Secondary Education    \n",
       " [811] Secondary Education     College Education       Post-graduate Education\n",
       " [814] Primary Education       College Education       Primary Education      \n",
       " [817] College Education       College Education       Primary Education      \n",
       " [820] Secondary Education     College Education       Primary Education      \n",
       " [823] Secondary Education     Post-graduate Education No formal education    \n",
       " [826] No formal education     Secondary Education     No formal education    \n",
       " [829] Secondary Education     College Education       Primary Education      \n",
       " [832] College Education       Primary Education       No formal education    \n",
       " [835] Primary Education       Post-graduate Education Post-graduate Education\n",
       " [838] Secondary Education     Secondary Education     Secondary Education    \n",
       " [841] Primary Education       College Education       Primary Education      \n",
       " [844] No formal education     Post-graduate Education No formal education    \n",
       " [847] Primary Education       Primary Education       Post-graduate Education\n",
       " [850] Secondary Education     Secondary Education     Secondary Education    \n",
       " [853] Secondary Education     College Education       Secondary Education    \n",
       " [856] Post-graduate Education College Education       No formal education    \n",
       " [859] Primary Education       Primary Education       College Education      \n",
       " [862] Primary Education       Primary Education       Primary Education      \n",
       " [865] Primary Education       Primary Education       Post-graduate Education\n",
       " [868] No formal education     Primary Education       College Education      \n",
       " [871] Post-graduate Education College Education       Primary Education      \n",
       " [874] Secondary Education     Secondary Education     Post-graduate Education\n",
       " [877] No formal education     No formal education     Secondary Education    \n",
       " [880] Primary Education       Primary Education       No formal education    \n",
       " [883] Primary Education       Secondary Education     Primary Education      \n",
       " [886] Primary Education       No formal education     Secondary Education    \n",
       " [889] Secondary Education     Primary Education       Post-graduate Education\n",
       " [892] College Education       Secondary Education     Secondary Education    \n",
       " [895] Primary Education       Primary Education       College Education      \n",
       " [898] Primary Education       Secondary Education     Secondary Education    \n",
       " [901] No formal education     Primary Education       Post-graduate Education\n",
       " [904] No formal education     Primary Education       No formal education    \n",
       " [907] Secondary Education     Primary Education       No formal education    \n",
       " [910] No formal education     Post-graduate Education Post-graduate Education\n",
       " [913] Primary Education       College Education       Secondary Education    \n",
       " [916] Primary Education       No formal education     No formal education    \n",
       " [919] Primary Education       College Education       No formal education    \n",
       " [922] Post-graduate Education Primary Education       Primary Education      \n",
       " [925] College Education       Primary Education       No formal education    \n",
       " [928] Post-graduate Education Primary Education       Secondary Education    \n",
       " [931] Post-graduate Education Secondary Education     Secondary Education    \n",
       " [934] Primary Education       College Education       No formal education    \n",
       " [937] College Education       Secondary Education     College Education      \n",
       " [940] College Education       College Education       Secondary Education    \n",
       " [943] Secondary Education     Secondary Education     Secondary Education    \n",
       " [946] College Education       College Education       College Education      \n",
       " [949] Secondary Education     Primary Education       Primary Education      \n",
       " [952] Secondary Education     Primary Education       No formal education    \n",
       " [955] No formal education     Primary Education       Secondary Education    \n",
       " [958] Secondary Education     Primary Education       College Education      \n",
       " [961] Secondary Education     Secondary Education     Post-graduate Education\n",
       " [964] Secondary Education     Secondary Education     College Education      \n",
       " [967] Post-graduate Education College Education       Primary Education      \n",
       " [970] Primary Education       Secondary Education     Secondary Education    \n",
       " [973] No formal education     Post-graduate Education Post-graduate Education\n",
       " [976] No formal education     Primary Education       Primary Education      \n",
       " [979] Primary Education       No formal education     College Education      \n",
       " [982] College Education       Primary Education       Primary Education      \n",
       " [985] Primary Education       Secondary Education     Post-graduate Education\n",
       " [988] Post-graduate Education Secondary Education     Primary Education      \n",
       " [991] Primary Education       Primary Education       Primary Education      \n",
       " [994] College Education       College Education       College Education      \n",
       " [997] Primary Education       No formal education     Post-graduate Education\n",
       "[1000] No formal education    \n",
       "5 Levels: Primary Education No formal education ... Post-graduate Education"
      ]
     },
     "metadata": {},
     "output_type": "display_data"
    }
   ],
   "source": [
    "educ_RELE"
   ]
  },
  {
   "cell_type": "code",
   "execution_count": 26,
   "id": "9415b09c",
   "metadata": {},
   "outputs": [
    {
     "data": {
      "text/plain": [
       "educ_RELE\n",
       "      Primary Education     No formal education     Secondary Education \n",
       "                    274                     140                     267 \n",
       "      College Education Post-graduate Education \n",
       "                    181                     138 "
      ]
     },
     "metadata": {},
     "output_type": "display_data"
    }
   ],
   "source": [
    "table(educ_RELE)"
   ]
  },
  {
   "cell_type": "markdown",
   "id": "67280ceb",
   "metadata": {},
   "source": [
    "##Get the levels() function here: https://www.marsja.se/how-to-rename-factor-levels-in-r-dplyr/\n",
    "\n",
    "##Get the relevel() function here: https://stat.ethz.ch/R-manual/R-devel/library/stats/html/relevel.html "
   ]
  },
  {
   "cell_type": "markdown",
   "id": "cd26bf4b",
   "metadata": {
    "slideshow": {
     "slide_type": "slide"
    }
   },
   "source": [
    "## Exercise 5: Conditional statements and loops  (20 points)\n",
    "\n",
    "[Levenshtein distance](https://en.wikipedia.org/wiki/Levenshtein_distance) is a string distance metric that measures how many transformations (insertion, deletion, substitution) are required to convert one string into another. For example, consider words 'cat' and 'can'. Letter 't' in the first word can be substituted with a character 'n' in order for the two words to become identical.\n",
    "\n",
    "For classical Levenshtein distance each of the transformations has the same cost of 1. In other words, the distance (of 1) is the same between the word pairs 'cat' - 'can' and 'cat' - 'cats'.\n",
    "\n",
    "Below you can see two character vectors that were transformed to have a single letter as an individual element. Write a loop to compare each of the elements from one string to each of the elements from another string while keeping track of the number of transformations. Print out the result of the transformations count."
   ]
  },
  {
   "cell_type": "code",
   "execution_count": 27,
   "id": "211e64a6",
   "metadata": {
    "slideshow": {
     "slide_type": "fragment"
    }
   },
   "outputs": [],
   "source": [
    "char_1 <- unlist(strsplit(\"kitten\", split = \"\"))\n",
    "char_2 <- unlist(strsplit(\"sitting\", split = \"\"))"
   ]
  },
  {
   "cell_type": "code",
   "execution_count": 28,
   "id": "e7e4e266",
   "metadata": {
    "slideshow": {
     "slide_type": "fragment"
    }
   },
   "outputs": [
    {
     "data": {
      "text/plain": [
       "[1] \"k\" \"i\" \"t\" \"t\" \"e\" \"n\""
      ]
     },
     "metadata": {},
     "output_type": "display_data"
    }
   ],
   "source": [
    "char_1"
   ]
  },
  {
   "cell_type": "code",
   "execution_count": 29,
   "id": "d09f32e6",
   "metadata": {
    "slideshow": {
     "slide_type": "fragment"
    }
   },
   "outputs": [
    {
     "data": {
      "text/plain": [
       "[1] \"s\" \"i\" \"t\" \"t\" \"i\" \"n\" \"g\""
      ]
     },
     "metadata": {},
     "output_type": "display_data"
    }
   ],
   "source": [
    "char_2"
   ]
  },
  {
   "cell_type": "code",
   "execution_count": 30,
   "id": "4ee7ce48",
   "metadata": {
    "slideshow": {
     "slide_type": "fragment"
    }
   },
   "outputs": [],
   "source": [
    "# Exercise 5:\n",
    "\n",
    "# Your code goes here"
   ]
  },
  {
   "cell_type": "code",
   "execution_count": 31,
   "id": "f29fa521",
   "metadata": {},
   "outputs": [
    {
     "data": {
      "text/plain": [
       "[1] 6"
      ]
     },
     "metadata": {},
     "output_type": "display_data"
    }
   ],
   "source": [
    "length(char_1)\n",
    "\n",
    "char_1_mod <- append(char_1, \"0\") "
   ]
  },
  {
   "cell_type": "markdown",
   "id": "ca643879",
   "metadata": {},
   "source": [
    "The length of char_1 is 6"
   ]
  },
  {
   "cell_type": "code",
   "execution_count": 32,
   "id": "1c5bec74",
   "metadata": {},
   "outputs": [
    {
     "data": {
      "text/plain": [
       "[1] 7"
      ]
     },
     "metadata": {},
     "output_type": "display_data"
    }
   ],
   "source": [
    "length(char_2)"
   ]
  },
  {
   "cell_type": "markdown",
   "id": "28d1b1ac",
   "metadata": {},
   "source": [
    "The length of char_2 is 7"
   ]
  },
  {
   "cell_type": "code",
   "execution_count": 33,
   "id": "affccba1",
   "metadata": {},
   "outputs": [],
   "source": [
    "char_1_mod <- append(char_1, \"0\")"
   ]
  },
  {
   "cell_type": "markdown",
   "id": "a4c65076",
   "metadata": {},
   "source": [
    "add \"0\" at the end of char_1, making it the same length as char_2 "
   ]
  },
  {
   "cell_type": "code",
   "execution_count": 34,
   "id": "50d23091",
   "metadata": {},
   "outputs": [],
   "source": [
    "num_tra <- 0\n",
    "num_tra  <- ifelse(char_2 == char_1_mod, num_tra, num_tra +1)"
   ]
  },
  {
   "cell_type": "code",
   "execution_count": 35,
   "id": "d265b40e",
   "metadata": {},
   "outputs": [
    {
     "data": {
      "text/plain": [
       "[1] 3"
      ]
     },
     "metadata": {},
     "output_type": "display_data"
    }
   ],
   "source": [
    "sum(num_tra) #  there are 3 transformations"
   ]
  },
  {
   "cell_type": "markdown",
   "id": "2bb63020",
   "metadata": {},
   "source": [
    "There are 3 transformations"
   ]
  }
 ],
 "metadata": {
  "celltoolbar": "Slideshow",
  "kernelspec": {
   "display_name": "R",
   "language": "R",
   "name": "ir"
  },
  "language_info": {
   "codemirror_mode": "r",
   "file_extension": ".r",
   "mimetype": "text/x-r-source",
   "name": "R",
   "pygments_lexer": "r",
   "version": "3.6.1"
  }
 },
 "nbformat": 4,
 "nbformat_minor": 5
}
