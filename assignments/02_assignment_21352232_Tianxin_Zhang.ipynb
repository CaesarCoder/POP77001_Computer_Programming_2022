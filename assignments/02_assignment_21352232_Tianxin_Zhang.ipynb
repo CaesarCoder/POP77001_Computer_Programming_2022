{
 "cells": [
  {
   "cell_type": "code",
   "execution_count": 1,
   "id": "0f90c9f4",
   "metadata": {
    "slideshow": {
     "slide_type": "skip"
    }
   },
   "outputs": [],
   "source": [
    "options(jupyter.rich_display = FALSE)"
   ]
  },
  {
   "cell_type": "markdown",
   "id": "31d2cf7f",
   "metadata": {
    "slideshow": {
     "slide_type": "slide"
    }
   },
   "source": [
    "# Assignment 2: Functions and Data Wrangling\n",
    "\n",
    "## POP77001 Computer Programming for Social Scientists"
   ]
  },
  {
   "cell_type": "markdown",
   "id": "8c6e5f0b",
   "metadata": {
    "slideshow": {
     "slide_type": "slide"
    }
   },
   "source": [
    "## Before submission\n",
    "\n",
    "- Make sure that you can run all cells without errors\n",
    "- You can do it by clicking `Kernel`, `Restart & Run All` in the menu above\n",
    "- Make sure that you save the output by pressing Command+S / CTRL+S\n",
    "- Rename the file from `02_assignment.ipynb` to `02_assignment_studentnumber_firstname_lastname.ipynb`\n",
    "- Use Firefox browser for submitting your Jupyter notebook on Blackboard"
   ]
  },
  {
   "cell_type": "markdown",
   "id": "5aee56c4",
   "metadata": {
    "slideshow": {
     "slide_type": "slide"
    }
   },
   "source": [
    "## Exercise 1: Formalising Expectations\n",
    "\n",
    "See the function for parsing user's age from their input below. How can a call to this function produce invalid output? What are your expectations about the input? Re-write the function below to check user's input and handle situations when a user provides incorrect values."
   ]
  },
  {
   "cell_type": "code",
   "execution_count": 2,
   "id": "edcd0e3f",
   "metadata": {
    "slideshow": {
     "slide_type": "fragment"
    }
   },
   "outputs": [],
   "source": [
    "# Get user's age\n",
    "    \n",
    "# Takes user's year of birth as an input\n",
    "# Returns age in years as an integer\n",
    "get_age <- function() {\n",
    "  yob <- readline(\"Please enter your year of birth: \")\n",
    "  age <- 2022 - as.numeric(yob)\n",
    "  return(age)\n",
    "}"
   ]
  },
  {
   "cell_type": "code",
   "execution_count": 3,
   "id": "f3752a5b",
   "metadata": {
    "slideshow": {
     "slide_type": "fragment"
    }
   },
   "outputs": [],
   "source": [
    "# Exercise 1:\n",
    "\n",
    "# Your code goes here\n"
   ]
  },
  {
   "cell_type": "markdown",
   "id": "2f0feb2d",
   "metadata": {},
   "source": [
    "If I type character like \"1997\", NA will be introduced  "
   ]
  },
  {
   "cell_type": "code",
   "execution_count": null,
   "id": "d24b16f2",
   "metadata": {},
   "outputs": [],
   "source": [
    "get_age_2 <- function() {\n",
    "  yob <- readline(\"Please enter your year of birth: \")\n",
    "  if(is.na(as.numeric(yob)))\n",
    "  {\n",
    "    return(print(\"Please enter a number\"))}\n",
    "  else{age <- 2022 - as.numeric(yob)\n",
    "  return(age)}\n",
    "}\n",
    "\n",
    "get_age_2()"
   ]
  },
  {
   "cell_type": "markdown",
   "id": "ebf488b3",
   "metadata": {
    "slideshow": {
     "slide_type": "slide"
    }
   },
   "source": [
    "## Exercise 2: Fibonacci sequence\n",
    "\n",
    "[Fibonacci sequence](https://en.wikipedia.org/wiki/Fibonacci_number) is an integer sequence that frequently appears in mathematics and is often associated with the [golden ratio](https://en.wikipedia.org/wiki/Golden_ratio).\n",
    "\n",
    "- Fibonacci sequence starts with the first element being equal to 0 and the second element being equal to 1.\n",
    "- All subsequent elements are the sums of the preceeding two elements.\n",
    "- More formally: $F_0 = 0, F_1 = 1, F_n = F_{n-1} + F_{n-2}, n \\gt 1$\n",
    "- The beginning of the sequence then looks like this: [0, 1, 1, 2, 3, 5, 8, ...]\n",
    "\n",
    "Implement a function that takes a vector of integers as an input and returns a vector of numbers from Fibonacci sequence, whose indices correspond to the integers from the input vector.\n",
    "\n",
    "Test the implemented function on the following inputs:\n",
    "- `10`\n",
    "- `c(1, 2, 3, 4, 5)`\n",
    "- `c(3, 9, 12)`\n",
    "\n",
    "Function specification:\n",
    "\n",
    "Function takes 1 argument:\n",
    "- `num_vec` - vector of whole numbers\n",
    "\n",
    "Function returns 1 object:\n",
    "- `fib` - vector of numbers from Fibonacci sequence corresponding to indices from the input vector\n",
    "\n",
    "Example input → output:\n",
    "- $[1, 3, 6]$ → $[0, 1, 5]$ "
   ]
  },
  {
   "cell_type": "code",
   "execution_count": 14,
   "id": "31eabd68",
   "metadata": {
    "slideshow": {
     "slide_type": "fragment"
    }
   },
   "outputs": [
    {
     "data": {
      "text/html": [
       "55"
      ],
      "text/latex": [
       "55"
      ],
      "text/markdown": [
       "55"
      ],
      "text/plain": [
       "[1] 55"
      ]
     },
     "metadata": {},
     "output_type": "display_data"
    }
   ],
   "source": [
    "# Exercise 2:\n",
    "\n",
    "# Your code goes here\n",
    "\n",
    "\n",
    "fib_single_num <- function(n) {\n",
    " if (n <=1) {return(n)}\n",
    "    else{\n",
    "    return(fib_single_num(n-1) + fib_single_num(n-2))}\n",
    "}\n",
    "\n",
    "fib_single_num(10)"
   ]
  },
  {
   "cell_type": "code",
   "execution_count": null,
   "id": "7d8e1c7e",
   "metadata": {},
   "outputs": [],
   "source": [
    "fib_single_num(20)"
   ]
  },
  {
   "cell_type": "markdown",
   "id": "6da156c7",
   "metadata": {},
   "source": [
    "How to create Fibonacci sequence, last number: https://www.datamentor.io/r-programming/examples/fibonacci-recursion/"
   ]
  },
  {
   "cell_type": "code",
   "execution_count": null,
   "id": "02626127",
   "metadata": {},
   "outputs": [],
   "source": [
    "get_fib <- function (n) {\n",
    "  if (length(n) <= 1){\n",
    "  fib_single_num(n)}\n",
    "  else {\n",
    "    fib_num <- c(0, 1)\n",
    "    fib_num <- c(fib_single_num(n[1:max(n)]))}\n",
    "  return(fib_num)\n",
    "    \n",
    "print(get_fib(c(1, 2, 3, 4, 5)))\n",
    "print(get_fib(c(3, 9, 12)))"
   ]
  },
  {
   "cell_type": "markdown",
   "id": "3bbdf44b",
   "metadata": {},
   "source": [
    "I failed to make it work in R, but I tried to seperate it into two sections: when there is only a single element in the vector, and when there are multiple elements in the vector. \n",
    "I tried the c(fib_single_num(n[1:max(n)])) part and it didn't work either.(see below) \n",
    "That's how far I can get. "
   ]
  },
  {
   "cell_type": "code",
   "execution_count": null,
   "id": "52099e35",
   "metadata": {},
   "outputs": [],
   "source": [
    "a <- c(1, 3, 6)\n",
    "c(fib_single_num(a[1:max(a)]))"
   ]
  },
  {
   "cell_type": "markdown",
   "id": "643f0189",
   "metadata": {
    "slideshow": {
     "slide_type": "slide"
    }
   },
   "source": [
    "## Exercise 3: Calculating t-tests\n",
    "\n",
    "[Student's t-test](https://en.wikipedia.org/wiki/Student's_t-test) (developed by [William Gosset](https://en.wikipedia.org/wiki/William_Sealy_Gosset) when working at the Guinness Brewery) is a classical tool for testing differences in means between groups when samples are small.\n",
    "\n",
    "Assume that you drew a random sample of $200$ individuals and ran $1,000$ experiments on them (an experiment does not need to mean something big, think, different shapes of some button on a website or Guinness served at slightly different temperatures).\n",
    "\n",
    "Implement a function that takes a matrix of experimental results and a vector with experimental/control-group assignment and returns a vector of calculated t-statistics for each of the experiments. Internally, you can use built-in `t.test()` function in R. See simulated input data below.\n",
    "\n",
    "Function specification:\n",
    "\n",
    "Function takes 2 arguments:\n",
    "- `mat` - matrix of experimental results (rows - individuals, columns - experiments)\n",
    "- `grp` - vector of experimental/control-group assignment \n",
    "\n",
    "Function returns 1 object:\n",
    "- `tstats` - vector of calculated t-statistics for each of the experiments\n",
    " "
   ]
  },
  {
   "cell_type": "code",
   "execution_count": 5,
   "id": "7bdfbb49",
   "metadata": {
    "slideshow": {
     "slide_type": "fragment"
    }
   },
   "outputs": [],
   "source": [
    "set.seed(2021)\n",
    "n <- 200\n",
    "m <- 1000\n",
    "mat <- matrix(rnorm(m * n, mean = 20, sd = 3), nrow = 200)\n",
    "# For simplicity, let's assume that assignment to control and experimental groups is always the same\n",
    "grp <- rep(0:1, times = 100)"
   ]
  },
  {
   "cell_type": "code",
   "execution_count": null,
   "id": "fb1cacd2",
   "metadata": {
    "slideshow": {
     "slide_type": "fragment"
    }
   },
   "outputs": [],
   "source": [
    "# Exercise 3:\n",
    "# Your code goes here\n",
    "\n",
    "T_TEST_FUNCTION <- function(mat, grp) {\n",
    "  for (i in (1: 1000)){\n",
    "    tstats <- c()\n",
    "    tstats <- c(unname((t.test(mat[, i],grp)$statistic)))\n",
    "} \n",
    "  return(tstats)\n",
    "}\n",
    "\n",
    "T_TEST_MATGRP <- T_TEST_FUNCTION(mat, grp)\n",
    "\n",
    "\n",
    "\n"
   ]
  },
  {
   "cell_type": "markdown",
   "id": "9559c747",
   "metadata": {},
   "source": [
    "Note: I don't think that's the right answer because I only have one element in the output. But I don't know how to fix it. "
   ]
  },
  {
   "cell_type": "markdown",
   "id": "d55ad399",
   "metadata": {
    "slideshow": {
     "slide_type": "slide"
    }
   },
   "source": [
    "## Exercise 4: Manipulating data frames\n",
    "\n",
    "List of data frames is a common output of some data collection tools. Find below a list of 10 data frames. Append them together by row. Keep only unique rows."
   ]
  },
  {
   "cell_type": "code",
   "execution_count": null,
   "id": "43c5c875",
   "metadata": {
    "slideshow": {
     "slide_type": "fragment"
    }
   },
   "outputs": [],
   "source": [
    "set.seed(2022)\n",
    "dfs <- lapply(1:10, function(n) data.frame(x = letters[sample(1:26,20,TRUE)], y = sample(1:26,20,TRUE)))"
   ]
  },
  {
   "cell_type": "code",
   "execution_count": null,
   "id": "22e51dcb",
   "metadata": {
    "slideshow": {
     "slide_type": "fragment"
    }
   },
   "outputs": [],
   "source": [
    "# Exercise 4:\n",
    "\n",
    "# Your code goes here\n",
    "\n",
    "dfs_1 <- dfs[[1]]\n",
    "dfs_2 <- dfs[[2]]\n",
    "dfs_3 <- dfs[[3]]\n",
    "dfs_4 <- dfs[[4]]\n",
    "dfs_5 <- dfs[[5]]\n",
    "dfs_6 <- dfs[[6]]\n",
    "dfs_7 <- dfs[[7]]\n",
    "dfs_8 <- dfs[[8]]\n",
    "dfs_9 <- dfs[[9]]\n",
    "dfs_10 <- dfs[[10]]\n",
    "\n",
    "dfs_tog <- rbind(dfs_1, dfs_2, dfs_3, dfs_4, dfs_5, dfs_6, dfs_7, dfs_8, dfs_9, dfs_10)\n",
    "\n",
    "dfs_tog <- lapply(dfs, rbind)\n",
    "\n",
    "dfs_tog_uni <- unique(dfs_tog)\n"
   ]
  },
  {
   "cell_type": "markdown",
   "id": "6451bb73",
   "metadata": {},
   "source": [
    "177 observations, 2 variables"
   ]
  },
  {
   "cell_type": "markdown",
   "id": "0a1b99aa",
   "metadata": {
    "slideshow": {
     "slide_type": "slide"
    }
   },
   "source": [
    "## Exercise 5: Pivoting tables\n",
    "\n",
    "Let's use [Kaggle](https://www.kaggle.com) [2021 Machine Learning and Data Science Survey](https://www.kaggle.com/c/kaggle-survey-2021/), that we encountered before. The dataset is available on Blackboard.\n",
    "\n",
    "In question 7 respondents were asked \"What programming languages do you use on a regular basis? (Select all that apply)\". Calculate percentages of respondents who use each of the programming languages. Sort them by popularity.\n",
    "\n",
    "Tip: You can use `tidyr` and `dplyr` packages to pivot subset of columns into longer format."
   ]
  },
  {
   "cell_type": "code",
   "execution_count": 1,
   "id": "fd7f1c95",
   "metadata": {
    "scrolled": true,
    "slideshow": {
     "slide_type": "fragment"
    }
   },
   "outputs": [
    {
     "name": "stderr",
     "output_type": "stream",
     "text": [
      "Parsed with column specification:\n",
      "cols(\n",
      "  .default = col_character()\n",
      ")\n",
      "See spec(...) for full column specifications.\n",
      "Parsed with column specification:\n",
      "cols(\n",
      "  .default = col_character(),\n",
      "  `Time from Start to Finish (seconds)` = col_double(),\n",
      "  Q30_B_Part_1 = col_logical(),\n",
      "  Q30_B_Part_2 = col_logical(),\n",
      "  Q30_B_Part_3 = col_logical(),\n",
      "  Q30_B_Part_4 = col_logical(),\n",
      "  Q30_B_Part_5 = col_logical(),\n",
      "  Q30_B_Part_6 = col_logical(),\n",
      "  Q30_B_Part_7 = col_logical(),\n",
      "  Q30_B_OTHER = col_logical()\n",
      ")\n",
      "See spec(...) for full column specifications.\n"
     ]
    },
    {
     "ename": "ERROR",
     "evalue": "Error: 'pivot_longer' is not an exported object from 'namespace:tidyr'\n",
     "output_type": "error",
     "traceback": [
      "Error: 'pivot_longer' is not an exported object from 'namespace:tidyr'\nTraceback:\n",
      "1. kaggle2021_q7 %>% tidyr::pivot_longer(contains(\"Q7_\"), names_to = (\"Q7\"), \n .     values_to = (\"programming_language\"))",
      "2. withVisible(eval(quote(`_fseq`(`_lhs`)), env, env))",
      "3. eval(quote(`_fseq`(`_lhs`)), env, env)",
      "4. eval(quote(`_fseq`(`_lhs`)), env, env)",
      "5. `_fseq`(`_lhs`)",
      "6. freduce(value, `_function_list`)",
      "7. withVisible(function_list[[k]](value))",
      "8. function_list[[k]](value)",
      "9. tidyr::pivot_longer",
      "10. getExportedValue(pkg, name)",
      "11. stop(gettextf(\"'%s' is not an exported object from 'namespace:%s'\", \n  .     name, getNamespaceName(ns)), call. = FALSE, domain = NA)"
     ]
    }
   ],
   "source": [
    "# Exercise 5:\n",
    "\n",
    "# Your code goes here\n",
    "library(tidyr)\n",
    "\n",
    "PATH <- \"C:/Users/Caesar/OneDrive - TCDUD.onmicrosoft.com/PhD Y1/ASDS CPSS/week 6/kaggle_survey_2021_responses.csv\"\n",
    "questions <- readr::read_csv(PATH, n_max = 2)\n",
    "kaggle2021 <- readr::read_csv(PATH, col_names = names(questions), skip = 2)\n",
    "\n",
    "kaggle2021_q7 <- kaggle2021[c(\"Q7_Part_1\", \"Q7_Part_2\", \"Q7_Part_3\", \"Q7_Part_4\",\"Q7_Part_5\", \"Q7_Part_6\", \"Q7_Part_7\", \"Q7_Part_8\", \"Q7_Part_9\", \"Q7_Part_10\", \"Q7_Part_11\", \"Q7_Part_12\", \"Q7_OTHER\")]\n",
    "\n",
    "kaggle2021_q7_longer <- kaggle2021_q7 %>%\n",
    "  tidyr::pivot_longer(\n",
    "    contains(\"Q7_\"),\n",
    "    names_to = (\"Q7\"),\n",
    "    values_to = (\"programming_language\"))"
   ]
  },
  {
   "cell_type": "markdown",
   "id": "acaa353f",
   "metadata": {},
   "source": [
    "It worked in R, but got the error in Jupyter Notebook"
   ]
  }
 ],
 "metadata": {
  "celltoolbar": "Slideshow",
  "kernelspec": {
   "display_name": "R",
   "language": "R",
   "name": "ir"
  },
  "language_info": {
   "codemirror_mode": "r",
   "file_extension": ".r",
   "mimetype": "text/x-r-source",
   "name": "R",
   "pygments_lexer": "r",
   "version": "3.6.1"
  }
 },
 "nbformat": 4,
 "nbformat_minor": 5
}
