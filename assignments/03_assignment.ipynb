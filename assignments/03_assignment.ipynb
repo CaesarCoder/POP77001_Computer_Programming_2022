{
 "cells": [
  {
   "cell_type": "markdown",
   "id": "c8e1ec2f",
   "metadata": {
    "slideshow": {
     "slide_type": "slide"
    }
   },
   "source": [
    "# Assignment 3: Python Fundamentals and Control Flow\n",
    "\n",
    "## POP77001 Computer Programming for Social Scientists"
   ]
  },
  {
   "cell_type": "markdown",
   "id": "dc7bfa76",
   "metadata": {
    "slideshow": {
     "slide_type": "slide"
    }
   },
   "source": [
    "## Before submission\n",
    "\n",
    "- Do not use external libraries unless explicitly specified.\n",
    "- Make sure that you can run all cells without errors.\n",
    "- You can do it by clicking `Kernel`, `Restart & Run All` in the menu above.\n",
    "- Make sure that you save the output by pressing Command+S / CTRL+S.\n",
    "- Rename the file from `03_assignment.ipynb` to `03_assignment_studentnumber_firstname_lastname.ipynb`.\n",
    "- Use Firefox browser for submitting your Jupyter notebook on Blackboard."
   ]
  },
  {
   "cell_type": "markdown",
   "id": "7670f6e4",
   "metadata": {
    "slideshow": {
     "slide_type": "slide"
    }
   },
   "source": [
    "## Exercise 1: Slicing\n",
    "\n",
    "Using only slicing operations create words 'mile', 'one', 'ton' and 'not' out of the word 'milestone'. Finally, reverse the order of letters in the word (spell it backwards). Print the results."
   ]
  },
  {
   "cell_type": "code",
   "execution_count": 92,
   "id": "02e71f56",
   "metadata": {
    "slideshow": {
     "slide_type": "fragment"
    }
   },
   "outputs": [
    {
     "name": "stdout",
     "output_type": "stream",
     "text": [
      "mile\n",
      "one\n",
      "ton\n",
      "not\n",
      "elim\n",
      "eno\n",
      "not\n",
      "ton\n"
     ]
    }
   ],
   "source": [
    "# Exercise 1:\n",
    "\n",
    "milestone = 'milestone'\n",
    "\n",
    "# Your code goes here\n",
    "\n",
    "mile = milestone[0:4]\n",
    "print(m)\n",
    "\n",
    "one = milestone[6:9]\n",
    "print(one)\n",
    "\n",
    "ton = milestone[5:8]\n",
    "print(ton)\n",
    "\n",
    "not_ = milestone[5:8][::-1]\n",
    "print(not_)\n",
    "\n",
    "# reverse order\n",
    "\n",
    "mile_re = mile[::-1]\n",
    "print(mile_re)\n",
    "\n",
    "one_re = one[::-1]\n",
    "print(one_re)\n",
    "\n",
    "ton_re = ton[::-1]\n",
    "print(ton_re)\n",
    "\n",
    "not_re = not_[::-1]\n",
    "print(not_re)\n",
    "\n"
   ]
  },
  {
   "cell_type": "markdown",
   "id": "ad4bdae8",
   "metadata": {
    "slideshow": {
     "slide_type": "slide"
    }
   },
   "source": [
    "## Exercise 2: List comprehension\n",
    "\n",
    "Using list comprehension modify the list below in such a way that every string with a book title, which has 3 or more words in it, is replaced by an integer representing the number of words (i.e. 3 for *War and Peace*)."
   ]
  },
  {
   "cell_type": "code",
   "execution_count": 86,
   "id": "5ae6e422",
   "metadata": {
    "slideshow": {
     "slide_type": "fragment"
    }
   },
   "outputs": [
    {
     "ename": "SyntaxError",
     "evalue": "closing parenthesis ']' does not match opening parenthesis '(' (3012237816.py, line 20)",
     "output_type": "error",
     "traceback": [
      "\u001b[1;36m  Input \u001b[1;32mIn [86]\u001b[1;36m\u001b[0m\n\u001b[1;33m    [books.replace(x, len(x.split()) for x in books if len(x.split()) >= 3]\u001b[0m\n\u001b[1;37m                                                                          ^\u001b[0m\n\u001b[1;31mSyntaxError\u001b[0m\u001b[1;31m:\u001b[0m closing parenthesis ']' does not match opening parenthesis '('\n"
     ]
    }
   ],
   "source": [
    "# Exercise 2:\n",
    "\n",
    "books = [\n",
    "    'Dubliners',\n",
    "    'Ulysses',\n",
    "    'War and Peace',\n",
    "    'Normal People',\n",
    "    'Crime and Punishment',\n",
    "    'The Picture of Dorian Gray'\n",
    "]\n",
    "\n",
    "# Your code goes here\n",
    "\n",
    "\n",
    "# number of space, len()\n",
    "# .replace()\n",
    "\n",
    "\n",
    "\n",
    "[books.replace(x, len(x.split()) for x in books if len(x.split()) >= 3]\n",
    "\n",
    "\n",
    "\n"
   ]
  },
  {
   "cell_type": "code",
   "execution_count": null,
   "id": "881f3afe",
   "metadata": {},
   "outputs": [],
   "source": [
    "\n",
    "def number_character(string):  \n",
    "    count = 1\n",
    "    for i in range(0, len(string)-1):\n",
    "        if string[i] == \" \":\n",
    "            count += 1        \n",
    "    return count \n",
    "        if count <= 2:  \n",
    "    return string\n",
    "        else:  \n",
    "    return string.replace(count+1)\n",
    "\n",
    "    \n",
    "\n",
    "\n",
    "string = books[2]\n",
    "\n",
    "number_character(string)"
   ]
  },
  {
   "cell_type": "code",
   "execution_count": null,
   "id": "09a38d0d",
   "metadata": {},
   "outputs": [],
   "source": [
    "        if count <= 2:  \n",
    "    return string\n",
    "        else:  \n",
    "    return string.replace(count+1)\n",
    "\n",
    "\n",
    "print(number_character(Dubliners))"
   ]
  },
  {
   "cell_type": "code",
   "execution_count": 47,
   "id": "83f66426",
   "metadata": {},
   "outputs": [
    {
     "data": {
      "text/plain": [
       "3"
      ]
     },
     "execution_count": 47,
     "metadata": {},
     "output_type": "execute_result"
    }
   ],
   "source": [
    "len(string.split())\n"
   ]
  },
  {
   "cell_type": "code",
   "execution_count": 162,
   "id": "b515d2e2",
   "metadata": {},
   "outputs": [
    {
     "data": {
      "text/plain": [
       "13"
      ]
     },
     "execution_count": 162,
     "metadata": {},
     "output_type": "execute_result"
    }
   ],
   "source": [
    "len(books[3])"
   ]
  },
  {
   "cell_type": "markdown",
   "id": "6286c178",
   "metadata": {},
   "source": [
    "Get the for loop here https://www.geeksforgeeks.org/python-program-to-count-the-number-of-spaces-in-string/"
   ]
  },
  {
   "cell_type": "markdown",
   "id": "4bd0427a",
   "metadata": {},
   "source": [
    "get how many words in a string: Cran.r-project.org"
   ]
  },
  {
   "cell_type": "code",
   "execution_count": null,
   "id": "f296fd6e",
   "metadata": {},
   "outputs": [],
   "source": [
    "get nested "
   ]
  },
  {
   "cell_type": "markdown",
   "id": "eb941025",
   "metadata": {
    "slideshow": {
     "slide_type": "slide"
    }
   },
   "source": [
    "## Exercise 3: Dictionary comprehension and looping\n",
    "\n",
    "Write a dictionary comprehension where each letter of the English alphabet is a key and a value is an empty list. Split the quote below into individual words. Write a loop that populates the previously created dictionary, where each word is assigned to a key according to its first letter (e.g. 'apple' to 'a'). Keep only unique words.\n",
    "\n",
    "Tip: You can use `ascii_lowercase` for the letters."
   ]
  },
  {
   "cell_type": "code",
   "execution_count": 216,
   "id": "d056ed73",
   "metadata": {
    "slideshow": {
     "slide_type": "fragment"
    }
   },
   "outputs": [
    {
     "name": "stdout",
     "output_type": "stream",
     "text": [
      "['\\nA', 'programmer', 'is', 'ideally', 'an', 'essayist', 'who', 'works', 'with', 'traditional', 'aesthetic', 'and', '\\nliterary', 'forms', 'as', 'well', 'as', 'mathematical', 'concepts,', 'to', 'communicate', 'the', 'way', 'that', '\\nan', 'algorithm', 'works', 'and', 'to', 'convince', 'a', 'reader', 'that', 'the', 'results', 'will', 'be', 'correct.\\n']\n"
     ]
    },
    {
     "ename": "AttributeError",
     "evalue": "'str' object has no attribute 'ascii_lowercase'",
     "output_type": "error",
     "traceback": [
      "\u001b[1;31m---------------------------------------------------------------------------\u001b[0m",
      "\u001b[1;31mAttributeError\u001b[0m                            Traceback (most recent call last)",
      "Input \u001b[1;32mIn [216]\u001b[0m, in \u001b[0;36m<cell line: 15>\u001b[1;34m()\u001b[0m\n\u001b[0;32m     14\u001b[0m alp \u001b[38;5;241m=\u001b[39m []\n\u001b[0;32m     15\u001b[0m \u001b[38;5;28;01mfor\u001b[39;00m i \u001b[38;5;129;01min\u001b[39;00m \u001b[38;5;28mrange\u001b[39m(\u001b[38;5;28mlen\u001b[39m(quote_split)):\n\u001b[1;32m---> 16\u001b[0m     alp\u001b[38;5;241m.\u001b[39mappend(\u001b[43mquote_split\u001b[49m\u001b[43m[\u001b[49m\u001b[43mi\u001b[49m\u001b[43m]\u001b[49m\u001b[38;5;241;43m.\u001b[39;49m\u001b[43mascii_lowercase\u001b[49m())\n",
      "\u001b[1;31mAttributeError\u001b[0m: 'str' object has no attribute 'ascii_lowercase'"
     ]
    }
   ],
   "source": [
    "# Exercise 3:\n",
    "\n",
    "quote = '''\n",
    "A programmer is ideally an essayist who works with traditional aesthetic and \n",
    "literary forms as well as mathematical concepts, to communicate the way that \n",
    "an algorithm works and to convince a reader that the results will be correct.\n",
    "'''\n",
    "\n",
    "# Your code goes here\n",
    "\n",
    "quote_split = quote.split(\" \")\n",
    "print(quote_split)\n",
    "\n",
    "alp = []\n",
    "for i in range(len(quote_split)):\n",
    "    alp.append(quote_split[i].ascii_lowercase())\n",
    "\n"
   ]
  },
  {
   "cell_type": "code",
   "execution_count": 205,
   "id": "8778be3f",
   "metadata": {},
   "outputs": [
    {
     "data": {
      "text/plain": [
       "['27', '42', '2']"
      ]
     },
     "execution_count": 205,
     "metadata": {},
     "output_type": "execute_result"
    }
   ],
   "source": [
    "\n",
    "## From lecture, let's do the similar things \n",
    "\n",
    "l = [3, 27, 9, 42, 10, 2, 5]\n",
    "s = []\n",
    "for i in range(1, len(l), 2):\n",
    " s.append(str(l[i]))\n",
    "s"
   ]
  },
  {
   "cell_type": "markdown",
   "id": "0a9e1d49",
   "metadata": {
    "slideshow": {
     "slide_type": "slide"
    }
   },
   "source": [
    "## Exercise 4: Code modularity\n",
    "\n",
    "[Euclidean distance](https://en.wikipedia.org/wiki/Euclidean_distance) between two points gives the length of a line segment between them (as the crow flies distance). It is a very versatile metric, which can be frequently encountered in statistical applications (e.g. matching) and text analysis (document similarity).\n",
    "\n",
    "Below is a snippet of code that implements it for two dimensions. How can its modularity be improved? Change the code to provide a more general solution. Extend it to 3 and further (N) dimensions.\n",
    "\n",
    "Function specification:\n",
    "\n",
    "Function takes 2 arguments:\n",
    "- `p` - sequence of first point's coordinates (in 2/3/n dimensions)\n",
    "- `q` - sequence of second point's coordinates (in 2/3/n dimensions)\n",
    "\n",
    "Function returns 1 object:\n",
    "- `dist` - floating-point value representing the Euclidean distance between the input points\n",
    "\n",
    "Example input → output:\n",
    "- $[5, 1, 3, 12, 7]$ and $[10, 8, 3, 9, 11]$ → $9.9499$\n",
    "\n",
    "External libraries:\n",
    "- None"
   ]
  },
  {
   "cell_type": "code",
   "execution_count": 4,
   "id": "66f3fa84",
   "metadata": {
    "slideshow": {
     "slide_type": "fragment"
    }
   },
   "outputs": [
    {
     "data": {
      "text/plain": [
       "4.123105625617661"
      ]
     },
     "execution_count": 4,
     "metadata": {},
     "output_type": "execute_result"
    }
   ],
   "source": [
    "# Exercise 4:\n",
    "\n",
    "# See code below, modify as necessary\n",
    "\n",
    "p = (3, 1)\n",
    "q = (4, 5)\n",
    "\n",
    "x_dist = q[0] - p[0]\n",
    "y_dist = q[1] - p[1]\n",
    "dist = (x_dist**2 + y_dist**2)**(0.5)\n",
    "dist"
   ]
  },
  {
   "cell_type": "markdown",
   "id": "d1dc4832",
   "metadata": {
    "slideshow": {
     "slide_type": "slide"
    }
   },
   "source": [
    "## Exercise 5: Palindrome problem\n",
    "\n",
    "[Palindrome](https://en.wikipedia.org/wiki/Palindrome) is a word, phrase or number that reads the same way forward and backward (e.g. madam, 2021-12-02). Briefly describe the intuition about how to implement it efficiently. Write a function to check whether a string is a palindrome.\n",
    "\n",
    "Function specification:\n",
    "\n",
    "Function takes 1 argument:\n",
    "- `s` - string that is to be tested\n",
    "\n",
    "Function returns 1 object:\n",
    "- `True` or `False` - Boolean (logical) value that equals to True if the string is a palindrome and False otherwise.\n",
    "\n",
    "Example input → output:\n",
    "- `no lemon, no melon` → `True`\n",
    "\n",
    "External libraries:\n",
    "- None  "
   ]
  },
  {
   "cell_type": "code",
   "execution_count": 153,
   "id": "353c25a9",
   "metadata": {
    "slideshow": {
     "slide_type": "fragment"
    }
   },
   "outputs": [
    {
     "data": {
      "text/plain": [
       "False"
      ]
     },
     "execution_count": 153,
     "metadata": {},
     "output_type": "execute_result"
    }
   ],
   "source": [
    "# Exercise 5:\n",
    "\n",
    "# Your text and code go here\n",
    "\n",
    "def check_Pal(s):\n",
    "    if s == s[::-1]:\n",
    "        return True \n",
    "    else: \n",
    "        return False \n",
    "\n",
    "s = 'no lemon, no melon'\n",
    "check_Pal(s)   "
   ]
  },
  {
   "cell_type": "code",
   "execution_count": 161,
   "id": "cd364383",
   "metadata": {},
   "outputs": [],
   "source": [
    "s = 'no lemon, no melon'\n",
    "\n"
   ]
  }
 ],
 "metadata": {
  "celltoolbar": "Slideshow",
  "kernelspec": {
   "display_name": "Python 3 (ipykernel)",
   "language": "python",
   "name": "python3"
  },
  "language_info": {
   "codemirror_mode": {
    "name": "ipython",
    "version": 3
   },
   "file_extension": ".py",
   "mimetype": "text/x-python",
   "name": "python",
   "nbconvert_exporter": "python",
   "pygments_lexer": "ipython3",
   "version": "3.9.12"
  }
 },
 "nbformat": 4,
 "nbformat_minor": 5
}
