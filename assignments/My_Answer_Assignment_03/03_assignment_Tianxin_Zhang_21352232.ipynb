{
 "cells": [
  {
   "cell_type": "markdown",
   "id": "c8e1ec2f",
   "metadata": {
    "slideshow": {
     "slide_type": "slide"
    }
   },
   "source": [
    "# Assignment 3: Python Fundamentals and Control Flow\n",
    "\n",
    "## POP77001 Computer Programming for Social Scientists"
   ]
  },
  {
   "cell_type": "markdown",
   "id": "dc7bfa76",
   "metadata": {
    "slideshow": {
     "slide_type": "slide"
    }
   },
   "source": [
    "## Before submission\n",
    "\n",
    "- Do not use external libraries unless explicitly specified.\n",
    "- Make sure that you can run all cells without errors.\n",
    "- You can do it by clicking `Kernel`, `Restart & Run All` in the menu above.\n",
    "- Make sure that you save the output by pressing Command+S / CTRL+S.\n",
    "- Rename the file from `03_assignment.ipynb` to `03_assignment_studentnumber_firstname_lastname.ipynb`.\n",
    "- Use Firefox browser for submitting your Jupyter notebook on Blackboard."
   ]
  },
  {
   "cell_type": "markdown",
   "id": "7670f6e4",
   "metadata": {
    "slideshow": {
     "slide_type": "slide"
    }
   },
   "source": [
    "## Exercise 1: Slicing\n",
    "\n",
    "Using only slicing operations create words 'mile', 'one', 'ton' and 'not' out of the word 'milestone'. Finally, reverse the order of letters in the word (spell it backwards). Print the results."
   ]
  },
  {
   "cell_type": "code",
   "execution_count": 1,
   "id": "02e71f56",
   "metadata": {
    "slideshow": {
     "slide_type": "fragment"
    }
   },
   "outputs": [
    {
     "name": "stdout",
     "output_type": "stream",
     "text": [
      "mile\n",
      "one\n",
      "ton\n",
      "not\n",
      "elim\n",
      "eno\n",
      "not\n",
      "ton\n"
     ]
    }
   ],
   "source": [
    "# Exercise 1:\n",
    "\n",
    "milestone = 'milestone'\n",
    "\n",
    "# Your code goes here\n",
    "\n",
    "mile = milestone[0:4]\n",
    "print(mile)\n",
    "\n",
    "one = milestone[6:9]\n",
    "print(one)\n",
    "\n",
    "ton = milestone[5:8]\n",
    "print(ton)\n",
    "\n",
    "not_ = milestone[5:8][::-1]\n",
    "print(not_)\n",
    "\n",
    "# reverse order\n",
    "\n",
    "mile_re = mile[::-1]\n",
    "print(mile_re)\n",
    "\n",
    "one_re = one[::-1]\n",
    "print(one_re)\n",
    "\n",
    "ton_re = ton[::-1]\n",
    "print(ton_re)\n",
    "\n",
    "not_re = not_[::-1]\n",
    "print(not_re)\n",
    "\n"
   ]
  },
  {
   "cell_type": "markdown",
   "id": "ad4bdae8",
   "metadata": {
    "slideshow": {
     "slide_type": "slide"
    }
   },
   "source": [
    "## Exercise 2: List comprehension\n",
    "\n",
    "Using list comprehension modify the list below in such a way that every string with a book title, which has 3 or more words in it, is replaced by an integer representing the number of words (i.e. 3 for *War and Peace*)."
   ]
  },
  {
   "cell_type": "code",
   "execution_count": 2,
   "id": "5ae6e422",
   "metadata": {
    "slideshow": {
     "slide_type": "fragment"
    }
   },
   "outputs": [
    {
     "data": {
      "text/plain": [
       "['Dubliners', 'Ulysses', 3, 'Normal People', 3, 5]"
      ]
     },
     "execution_count": 2,
     "metadata": {},
     "output_type": "execute_result"
    }
   ],
   "source": [
    "# Exercise 2:\n",
    "\n",
    "books = [\n",
    "    'Dubliners',\n",
    "    'Ulysses',\n",
    "    'War and Peace',\n",
    "    'Normal People',\n",
    "    'Crime and Punishment',\n",
    "    'The Picture of Dorian Gray'\n",
    "]\n",
    "\n",
    "# Your code goes here\n",
    "\n",
    "\n",
    "# number of space, len()\n",
    "# .replace()\n",
    "\n",
    "\n",
    "s = [len(x.split())if len(x.split()) >= 3 else x for x in books ]\n",
    "\n",
    "s\n",
    "\n",
    "\n"
   ]
  },
  {
   "cell_type": "markdown",
   "id": "4bd0427a",
   "metadata": {},
   "source": [
    "get how many words in a string: Cran.r-project.org"
   ]
  },
  {
   "cell_type": "markdown",
   "id": "eb941025",
   "metadata": {
    "slideshow": {
     "slide_type": "slide"
    }
   },
   "source": [
    "## Exercise 3: Dictionary comprehension and looping\n",
    "\n",
    "Write a dictionary comprehension where each letter of the English alphabet is a key and a value is an empty list. Split the quote below into individual words. Write a loop that populates the previously created dictionary, where each word is assigned to a key according to its first letter (e.g. 'apple' to 'a'). Keep only unique words.\n",
    "\n",
    "Tip: You can use `ascii_lowercase` for the letters."
   ]
  },
  {
   "cell_type": "code",
   "execution_count": 3,
   "id": "d056ed73",
   "metadata": {
    "slideshow": {
     "slide_type": "fragment"
    }
   },
   "outputs": [
    {
     "name": "stdout",
     "output_type": "stream",
     "text": [
      "['\\nA', 'programmer', 'is', 'ideally', 'an', 'essayist', 'who', 'works', 'with', 'traditional', 'aesthetic', 'and', '\\nliterary', 'forms', 'as', 'well', 'as', 'mathematical', 'concepts,', 'to', 'communicate', 'the', 'way', 'that', '\\nan', 'algorithm', 'works', 'and', 'to', 'convince', 'a', 'reader', 'that', 'the', 'results', 'will', 'be', 'correct.\\n']\n",
      "['\\nA', 'programmer', 'is', 'ideally', 'an', 'essayist', 'who', 'works', 'with', 'traditional', 'aesthetic', 'and', '\\nliterary', 'forms', 'as', 'well', 'as', 'mathematical', 'concepts,', 'to', 'communicate', 'the', 'way', 'that', '\\nan', 'algorithm', 'works', 'and', 'to', 'convince', 'a', 'reader', 'that', 'the', 'results', 'will', 'be', 'correct.\\n']\n"
     ]
    },
    {
     "data": {
      "text/plain": [
       "{'\\n', 'a', 'b', 'c', 'e', 'f', 'i', 'm', 'p', 'r', 't', 'w'}"
      ]
     },
     "execution_count": 3,
     "metadata": {},
     "output_type": "execute_result"
    }
   ],
   "source": [
    "# Exercise 3:\n",
    "\n",
    "quote = '''\n",
    "A programmer is ideally an essayist who works with traditional aesthetic and \n",
    "literary forms as well as mathematical concepts, to communicate the way that \n",
    "an algorithm works and to convince a reader that the results will be correct.\n",
    "'''\n",
    "\n",
    "# Your code goes here\n",
    "\n",
    "quote_split = quote.split(\" \")\n",
    "print(quote_split)\n",
    "\n",
    "h = [i for i in quote_split if i not in [\" \", \"-\", \"_\", \",\", \"#\", \"'\"]] \n",
    "print(h)\n",
    "\n",
    "{e[0] for e in h}\n",
    "\n",
    "\n",
    "\n",
    " \n",
    "\n",
    "\n",
    "    \n"
   ]
  },
  {
   "cell_type": "code",
   "execution_count": null,
   "id": "938908f6",
   "metadata": {},
   "outputs": [],
   "source": [
    "quote.replace(\" \", \"\").replace(\",\", \"\")"
   ]
  },
  {
   "cell_type": "markdown",
   "id": "a7f014e8",
   "metadata": {},
   "source": [
    "Note: I tried to get rid of '\\n' by including \"'\" in the g = [i for i in quote_split if i not in [\" \", \"-\", \"_\", \",\", \"#\", \"'\"]] , but it looks like it didn't work "
   ]
  },
  {
   "cell_type": "code",
   "execution_count": 4,
   "id": "324d7bb3",
   "metadata": {},
   "outputs": [
    {
     "name": "stdout",
     "output_type": "stream",
     "text": [
      "{'m', 't', 'a', '\\n', 'w', 'f', 'c', 'b', 'i', 'e', 'p', 'r'}\n"
     ]
    }
   ],
   "source": [
    "m = {e[0] for e in h}\n",
    "print(m)\n",
    "\n"
   ]
  },
  {
   "cell_type": "code",
   "execution_count": 5,
   "id": "38692e4d",
   "metadata": {},
   "outputs": [
    {
     "name": "stdout",
     "output_type": "stream",
     "text": [
      "{'results', 'a', 'an', 'essayist', 'traditional', 'with', 'will', 'as', 'the', 'reader', 'to', 'well', 'way', 'correct.\\n', 'aesthetic', 'be', 'mathematical', '\\nA', 'and', 'algorithm', 'forms', 'ideally', '\\nan', 'programmer', 'convince', 'who', 'is', 'concepts,', 'that', '\\nliterary', 'communicate', 'works'}\n"
     ]
    }
   ],
   "source": [
    "g = {i for i in quote_split if i not in [\" \", \"-\", \"_\", \",\", \"#\", \"'\"]}\n",
    "print(g)\n"
   ]
  },
  {
   "cell_type": "code",
   "execution_count": 6,
   "id": "12e7df80",
   "metadata": {},
   "outputs": [
    {
     "data": {
      "text/plain": [
       "{'\\n - \\nA',\n",
       " '\\n - \\nan',\n",
       " '\\n - \\nliterary',\n",
       " 'a - a',\n",
       " 'a - aesthetic',\n",
       " 'a - algorithm',\n",
       " 'a - an',\n",
       " 'a - and',\n",
       " 'a - as',\n",
       " 'b - be',\n",
       " 'c - communicate',\n",
       " 'c - concepts,',\n",
       " 'c - convince',\n",
       " 'c - correct.\\n',\n",
       " 'e - essayist',\n",
       " 'f - forms',\n",
       " 'i - ideally',\n",
       " 'i - is',\n",
       " 'm - mathematical',\n",
       " 'p - programmer',\n",
       " 'r - reader',\n",
       " 'r - results',\n",
       " 't - that',\n",
       " 't - the',\n",
       " 't - to',\n",
       " 't - traditional',\n",
       " 'w - way',\n",
       " 'w - well',\n",
       " 'w - who',\n",
       " 'w - will',\n",
       " 'w - with',\n",
       " 'w - works'}"
      ]
     },
     "execution_count": 6,
     "metadata": {},
     "output_type": "execute_result"
    }
   ],
   "source": [
    "{m[0].lower() + ' - ' + m for m in g}\n"
   ]
  },
  {
   "cell_type": "code",
   "execution_count": null,
   "id": "97fda095",
   "metadata": {},
   "outputs": [],
   "source": []
  },
  {
   "cell_type": "code",
   "execution_count": 7,
   "id": "bd51c355",
   "metadata": {},
   "outputs": [
    {
     "data": {
      "text/plain": [
       "{'r': 'reader',\n",
       " 'a': 'algorithm',\n",
       " 'e': 'essayist',\n",
       " 't': 'that',\n",
       " 'w': 'works',\n",
       " 'c': 'communicate',\n",
       " 'b': 'be',\n",
       " 'm': 'mathematical',\n",
       " '\\n': '\\nliterary',\n",
       " 'f': 'forms',\n",
       " 'i': 'is',\n",
       " 'p': 'programmer'}"
      ]
     },
     "execution_count": 7,
     "metadata": {},
     "output_type": "execute_result"
    }
   ],
   "source": [
    "{m[0].lower(): m for m in g}\n",
    "   for i in g \n",
    "    l = []\n",
    "    i[0]\n",
    "    \n",
    "    dic[m].append(l)\n",
    "    \n"
   ]
  },
  {
   "cell_type": "code",
   "execution_count": 8,
   "id": "a851f50c",
   "metadata": {},
   "outputs": [
    {
     "data": {
      "text/plain": [
       "{'r': ['reader'],\n",
       " 'a': ['algorithm'],\n",
       " 'e': ['essayist'],\n",
       " 't': ['that'],\n",
       " 'w': ['works'],\n",
       " 'c': ['communicate'],\n",
       " 'b': ['be'],\n",
       " 'm': ['mathematical'],\n",
       " '\\n': ['\\nliterary'],\n",
       " 'f': ['forms'],\n",
       " 'i': ['is'],\n",
       " 'p': ['programmer']}"
      ]
     },
     "execution_count": 8,
     "metadata": {},
     "output_type": "execute_result"
    }
   ],
   "source": [
    "{m[0].lower(): [m] for m in g}\n"
   ]
  },
  {
   "cell_type": "raw",
   "id": "7c1258fa",
   "metadata": {},
   "source": [
    "I tried to keep the unique first characters and all letters with the same first character at the same time but didn't succeed "
   ]
  },
  {
   "cell_type": "markdown",
   "id": "0d2efba7",
   "metadata": {},
   "source": [
    "How to get unique values in Python: https://www.geeksforgeeks.org/python-get-unique-values-list/ "
   ]
  },
  {
   "cell_type": "markdown",
   "id": "0a9e1d49",
   "metadata": {
    "slideshow": {
     "slide_type": "slide"
    }
   },
   "source": [
    "## Exercise 4: Code modularity\n",
    "\n",
    "[Euclidean distance](https://en.wikipedia.org/wiki/Euclidean_distance) between two points gives the length of a line segment between them (as the crow flies distance). It is a very versatile metric, which can be frequently encountered in statistical applications (e.g. matching) and text analysis (document similarity).\n",
    "\n",
    "Below is a snippet of code that implements it for two dimensions. How can its modularity be improved? Change the code to provide a more general solution. Extend it to 3 and further (N) dimensions.\n",
    "\n",
    "Function specification:\n",
    "\n",
    "Function takes 2 arguments:\n",
    "- `p` - sequence of first point's coordinates (in 2/3/n dimensions)\n",
    "- `q` - sequence of second point's coordinates (in 2/3/n dimensions)\n",
    "\n",
    "Function returns 1 object:\n",
    "- `dist` - floating-point value representing the Euclidean distance between the input points\n",
    "\n",
    "Example input → output:\n",
    "- $[5, 1, 3, 12, 7]$ and $[10, 8, 3, 9, 11]$ → $9.9499$\n",
    "\n",
    "External libraries:\n",
    "- None"
   ]
  },
  {
   "cell_type": "code",
   "execution_count": 9,
   "id": "66f3fa84",
   "metadata": {
    "slideshow": {
     "slide_type": "fragment"
    }
   },
   "outputs": [
    {
     "data": {
      "text/plain": [
       "4.123105625617661"
      ]
     },
     "execution_count": 9,
     "metadata": {},
     "output_type": "execute_result"
    }
   ],
   "source": [
    "# Exercise 4:\n",
    "\n",
    "# See code below, modify as necessary\n",
    "\n",
    "p = (3, 1)\n",
    "q = (4, 5)\n",
    "\n",
    "x_dist = q[0] - p[0]\n",
    "y_dist = q[1] - p[1]\n",
    "dist = (x_dist**2 + y_dist**2)**(0.5)\n",
    "dist\n",
    "    \n",
    "  "
   ]
  },
  {
   "cell_type": "code",
   "execution_count": 10,
   "id": "83a7e9a2",
   "metadata": {},
   "outputs": [
    {
     "data": {
      "text/plain": [
       "9.9498743710662"
      ]
     },
     "execution_count": 10,
     "metadata": {},
     "output_type": "execute_result"
    }
   ],
   "source": [
    "def Eu_Distance(p, q):\n",
    "    \"\"\"This is a function to calculate euclidean distance. The length of p and q should be the same\"\"\"\n",
    "    dist =0\n",
    "    for i in range(len(p)):\n",
    "        dist = dist + ((p[i]-q[i])**2)\n",
    "    return (dist**(0.5))\n",
    "\n",
    "Eu_Distance([5,1,3,12,7],[10,8,3,9,11]) \n"
   ]
  },
  {
   "cell_type": "code",
   "execution_count": 11,
   "id": "9c712665",
   "metadata": {},
   "outputs": [
    {
     "name": "stdout",
     "output_type": "stream",
     "text": [
      "Help on function Eu_Distance in module __main__:\n",
      "\n",
      "Eu_Distance(p, q)\n",
      "    This is a function to calculate euclidean distance. The length of p and q should be the same\n",
      "\n"
     ]
    }
   ],
   "source": [
    "help(Eu_Distance)"
   ]
  },
  {
   "cell_type": "markdown",
   "id": "d1dc4832",
   "metadata": {
    "slideshow": {
     "slide_type": "slide"
    }
   },
   "source": [
    "## Exercise 5: Palindrome problem\n",
    "\n",
    "[Palindrome](https://en.wikipedia.org/wiki/Palindrome) is a word, phrase or number that reads the same way forward and backward (e.g. madam, 2021-12-02). Briefly describe the intuition about how to implement it efficiently. Write a function to check whether a string is a palindrome.\n",
    "\n",
    "Function specification:\n",
    "\n",
    "Function takes 1 argument:\n",
    "- `s` - string that is to be tested\n",
    "\n",
    "Function returns 1 object:\n",
    "- `True` or `False` - Boolean (logical) value that equals to True if the string is a palindrome and False otherwise.\n",
    "\n",
    "Example input → output:\n",
    "- `no lemon, no melon` → `True`\n",
    "\n",
    "External libraries:\n",
    "- None  "
   ]
  },
  {
   "cell_type": "code",
   "execution_count": 12,
   "id": "353c25a9",
   "metadata": {
    "slideshow": {
     "slide_type": "fragment"
    }
   },
   "outputs": [
    {
     "data": {
      "text/plain": [
       "True"
      ]
     },
     "execution_count": 12,
     "metadata": {},
     "output_type": "execute_result"
    }
   ],
   "source": [
    "# Exercise 5:\n",
    "\n",
    "# Your text and code go here\n",
    "\n",
    "def check_Pal(s): \n",
    "    d = [i for i in s if i not in [\" \", \"-\", \"_\", \",\", \"#\"]]  \n",
    "    return d == d[::-1]\n",
    "\n",
    "s = \"no lemon, no melon\"\n",
    "check_Pal(s) \n"
   ]
  },
  {
   "cell_type": "code",
   "execution_count": 13,
   "id": "a49b5612",
   "metadata": {},
   "outputs": [
    {
     "data": {
      "text/plain": [
       "False"
      ]
     },
     "execution_count": 13,
     "metadata": {},
     "output_type": "execute_result"
    }
   ],
   "source": [
    "d = \"abcd\"\n",
    "check_Pal(d)"
   ]
  },
  {
   "cell_type": "code",
   "execution_count": 14,
   "id": "130a4ed6",
   "metadata": {},
   "outputs": [
    {
     "data": {
      "text/plain": [
       "True"
      ]
     },
     "execution_count": 14,
     "metadata": {},
     "output_type": "execute_result"
    }
   ],
   "source": [
    "\n",
    "a = \"2021-12-02\"\n",
    "check_Pal(a)"
   ]
  }
 ],
 "metadata": {
  "celltoolbar": "Slideshow",
  "kernelspec": {
   "display_name": "Python 3 (ipykernel)",
   "language": "python",
   "name": "python3"
  },
  "language_info": {
   "codemirror_mode": {
    "name": "ipython",
    "version": 3
   },
   "file_extension": ".py",
   "mimetype": "text/x-python",
   "name": "python",
   "nbconvert_exporter": "python",
   "pygments_lexer": "ipython3",
   "version": "3.9.12"
  }
 },
 "nbformat": 4,
 "nbformat_minor": 5
}
